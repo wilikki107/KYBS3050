{
  "nbformat": 4,
  "nbformat_minor": 0,
  "metadata": {
    "colab": {
      "provenance": [],
      "collapsed_sections": [
        "FWrJxOMe9mzO",
        "SdVAJuRZDaEc",
        "ha84OlnxbSjY",
        "yFOY-gxFrjIR",
        "gXSiFzJy1fxP",
        "HkeMm_RA1jw7"
      ],
      "authorship_tag": "ABX9TyMuqcs9tombMkYTiZ5jiwSe",
      "include_colab_link": true
    },
    "kernelspec": {
      "name": "python3",
      "display_name": "Python 3"
    },
    "language_info": {
      "name": "python"
    }
  },
  "cells": [
    {
      "cell_type": "markdown",
      "metadata": {
        "id": "view-in-github",
        "colab_type": "text"
      },
      "source": [
        "<a href=\"https://colab.research.google.com/github/wilikki107/KYBS3050/blob/main/KYBS3050_harjoitustyo.ipynb\" target=\"_parent\"><img src=\"https://colab.research.google.com/assets/colab-badge.svg\" alt=\"Open In Colab\"/></a>"
      ]
    },
    {
      "cell_type": "code",
      "source": [
        "!pip install --upgrade pyod"
      ],
      "metadata": {
        "colab": {
          "base_uri": "https://localhost:8080/"
        },
        "id": "aLRdFjs6Co8_",
        "outputId": "118a5983-3db8-4a7b-f3da-bc57d6cf9095"
      },
      "execution_count": 1,
      "outputs": [
        {
          "output_type": "stream",
          "name": "stdout",
          "text": [
            "Collecting pyod\n",
            "  Downloading pyod-1.1.2.tar.gz (160 kB)\n",
            "\u001b[2K     \u001b[90m━━━━━━━━━━━━━━━━━━━━━━━━━━━━━━━━━━━━━━━━\u001b[0m \u001b[32m160.5/160.5 kB\u001b[0m \u001b[31m2.2 MB/s\u001b[0m eta \u001b[36m0:00:00\u001b[0m\n",
            "\u001b[?25h  Preparing metadata (setup.py) ... \u001b[?25l\u001b[?25hdone\n",
            "Requirement already satisfied: joblib in /usr/local/lib/python3.10/dist-packages (from pyod) (1.3.2)\n",
            "Requirement already satisfied: matplotlib in /usr/local/lib/python3.10/dist-packages (from pyod) (3.7.1)\n",
            "Requirement already satisfied: numpy>=1.19 in /usr/local/lib/python3.10/dist-packages (from pyod) (1.23.5)\n",
            "Requirement already satisfied: numba>=0.51 in /usr/local/lib/python3.10/dist-packages (from pyod) (0.58.1)\n",
            "Requirement already satisfied: scipy>=1.5.1 in /usr/local/lib/python3.10/dist-packages (from pyod) (1.11.4)\n",
            "Requirement already satisfied: scikit_learn>=0.22.0 in /usr/local/lib/python3.10/dist-packages (from pyod) (1.2.2)\n",
            "Requirement already satisfied: six in /usr/local/lib/python3.10/dist-packages (from pyod) (1.16.0)\n",
            "Requirement already satisfied: llvmlite<0.42,>=0.41.0dev0 in /usr/local/lib/python3.10/dist-packages (from numba>=0.51->pyod) (0.41.1)\n",
            "Requirement already satisfied: threadpoolctl>=2.0.0 in /usr/local/lib/python3.10/dist-packages (from scikit_learn>=0.22.0->pyod) (3.2.0)\n",
            "Requirement already satisfied: contourpy>=1.0.1 in /usr/local/lib/python3.10/dist-packages (from matplotlib->pyod) (1.2.0)\n",
            "Requirement already satisfied: cycler>=0.10 in /usr/local/lib/python3.10/dist-packages (from matplotlib->pyod) (0.12.1)\n",
            "Requirement already satisfied: fonttools>=4.22.0 in /usr/local/lib/python3.10/dist-packages (from matplotlib->pyod) (4.45.1)\n",
            "Requirement already satisfied: kiwisolver>=1.0.1 in /usr/local/lib/python3.10/dist-packages (from matplotlib->pyod) (1.4.5)\n",
            "Requirement already satisfied: packaging>=20.0 in /usr/local/lib/python3.10/dist-packages (from matplotlib->pyod) (23.2)\n",
            "Requirement already satisfied: pillow>=6.2.0 in /usr/local/lib/python3.10/dist-packages (from matplotlib->pyod) (9.4.0)\n",
            "Requirement already satisfied: pyparsing>=2.3.1 in /usr/local/lib/python3.10/dist-packages (from matplotlib->pyod) (3.1.1)\n",
            "Requirement already satisfied: python-dateutil>=2.7 in /usr/local/lib/python3.10/dist-packages (from matplotlib->pyod) (2.8.2)\n",
            "Building wheels for collected packages: pyod\n",
            "  Building wheel for pyod (setup.py) ... \u001b[?25l\u001b[?25hdone\n",
            "  Created wheel for pyod: filename=pyod-1.1.2-py3-none-any.whl size=190292 sha256=2b8b1cf38b70e578e4257d0175a02a7c417bc285762b0636bf212f593d7f87df\n",
            "  Stored in directory: /root/.cache/pip/wheels/81/1b/61/aa85b78c3c0c8871f4231e3f4a03bb23cecb7db829498380ee\n",
            "Successfully built pyod\n",
            "Installing collected packages: pyod\n",
            "Successfully installed pyod-1.1.2\n"
          ]
        }
      ]
    },
    {
      "cell_type": "code",
      "execution_count": 2,
      "metadata": {
        "id": "NHvRD9lwV-VX",
        "colab": {
          "base_uri": "https://localhost:8080/"
        },
        "outputId": "dde2cca0-d54c-45b8-91a1-009a08119bc6"
      },
      "outputs": [
        {
          "output_type": "stream",
          "name": "stdout",
          "text": [
            "Drive already mounted at /content/gdrive/; to attempt to forcibly remount, call drive.mount(\"/content/gdrive/\", force_remount=True).\n"
          ]
        }
      ],
      "source": [
        "import pandas as pd\n",
        "import numpy as np\n",
        "import matplotlib.pyplot as plt\n",
        "import sklearn\n",
        "\n",
        "from sklearn.decomposition import PCA\n",
        "from sklearn import preprocessing\n",
        "from sklearn.metrics import classification_report\n",
        "from sklearn.metrics import accuracy_score, precision_score, recall_score\n",
        "from sklearn.model_selection import train_test_split\n",
        "\n",
        "from pyod.models.abod import ABOD\n",
        "from pyod.models.cblof import CBLOF\n",
        "from pyod.utils.data import evaluate_print\n",
        "from pyod.utils.example import visualize\n",
        "\n",
        "import tensorflow as tf\n",
        "\n",
        "from tensorflow.keras import layers, losses\n",
        "from tensorflow.keras.models import Model, Sequential\n",
        "from tensorflow.keras.layers import Dense, Dropout\n",
        "\n",
        "from google.colab import drive\n",
        "\n",
        "drive.mount('/content/gdrive/')\n",
        "\n"
      ]
    },
    {
      "cell_type": "markdown",
      "source": [
        "# Yleistä"
      ],
      "metadata": {
        "id": "Km6EsI_vu9qD"
      }
    },
    {
      "cell_type": "markdown",
      "source": [
        "Käytetään \"CSE-CIC-IDS2018 on AWS\" datasetistä yhden päivän flowdataa sisältävää CSV:tä. Kyseisessä datasetissä pitäisi olla DDOS-LOIC-UDP ja DDOS-HOIC hyökkäysten dataa näkyvissä.\n",
        "\n",
        "DDOS-LOIC-UDP hyökkäykset on tehty \"legendaarisella\" Low Orbit Ion Cannon työkalulla. Työkalun ja datasetin kuvauksen perusteella kohteisiin on ammuttu UDP paketteja suurissa määrissä useita eri lähteistä ja pyritty siten saamaan palvelunesto aikaiseksi.\n",
        "\n",
        "DDOS-HOIC hyökkäykset on tehty LOIC työkalun seuraajalla eli High Orbit Ion Cannonilla. Datan perusteella HOIC hyökkäyksissä on käytetty TCP:tä.\n",
        "\n",
        "Tavoite on yrittää löytää datasetistä nämä hyökkäykset tavalla tai toisella koneoppimista hyödyntäen."
      ],
      "metadata": {
        "id": "sGdNAq2ideX2"
      }
    },
    {
      "cell_type": "code",
      "source": [
        "path = \"/content/gdrive/MyDrive/KYBS3050/Wednesday-21-02-2018_TrafficForML_CICFlowMeter.csv\"\n",
        "\n",
        "dataset = pd.read_csv(path)\n",
        "dataset"
      ],
      "metadata": {
        "colab": {
          "base_uri": "https://localhost:8080/",
          "height": 615
        },
        "id": "C3rMmNLiZ-a6",
        "outputId": "2393ec2f-92fb-45bb-cbb7-b81156fce612"
      },
      "execution_count": 3,
      "outputs": [
        {
          "output_type": "execute_result",
          "data": {
            "text/plain": [
              "         Dst Port  Protocol            Timestamp  Flow Duration  Tot Fwd Pkts  \\\n",
              "0              80         6  21/02/2018 08:33:25          37953             5   \n",
              "1             500        17  21/02/2018 08:33:06      117573474             3   \n",
              "2             500        17  21/02/2018 08:33:06      117573474             3   \n",
              "3             500        17  21/02/2018 08:33:11       99743998             5   \n",
              "4             500        17  21/02/2018 08:33:11       99743999             5   \n",
              "...           ...       ...                  ...            ...           ...   \n",
              "1048570     55484         6  21/02/2018 02:33:29           1252             5   \n",
              "1048571     57624         6  21/02/2018 02:33:29          19055             5   \n",
              "1048572     57623         6  21/02/2018 02:33:29          36677             5   \n",
              "1048573     57625         6  21/02/2018 02:33:29           1849             5   \n",
              "1048574     58120         6  21/02/2018 02:33:29          20580             5   \n",
              "\n",
              "         Tot Bwd Pkts  TotLen Fwd Pkts  TotLen Bwd Pkts  Fwd Pkt Len Max  \\\n",
              "0                   3              135              127              135   \n",
              "1                   0             1500                0              500   \n",
              "2                   0             1500                0              500   \n",
              "3                   0             2500                0              500   \n",
              "4                   0             2500                0              500   \n",
              "...               ...              ...              ...              ...   \n",
              "1048570             2              935              274              935   \n",
              "1048571             2              935              341              935   \n",
              "1048572             2              935              341              935   \n",
              "1048573             2              935              341              935   \n",
              "1048574             2              935              299              935   \n",
              "\n",
              "         Fwd Pkt Len Min  ...  Fwd Seg Size Min  Active Mean  Active Std  \\\n",
              "0                      0  ...                32          0.0         0.0   \n",
              "1                    500  ...                 8          0.0         0.0   \n",
              "2                    500  ...                 8          0.0         0.0   \n",
              "3                    500  ...                 8    4000290.0         0.0   \n",
              "4                    500  ...                 8    4000286.0         0.0   \n",
              "...                  ...  ...               ...          ...         ...   \n",
              "1048570                0  ...                20          0.0         0.0   \n",
              "1048571                0  ...                20          0.0         0.0   \n",
              "1048572                0  ...                20          0.0         0.0   \n",
              "1048573                0  ...                20          0.0         0.0   \n",
              "1048574                0  ...                20          0.0         0.0   \n",
              "\n",
              "         Active Max  Active Min   Idle Mean    Idle Std  Idle Max  Idle Min  \\\n",
              "0                 0           0         0.0         0.0         0         0   \n",
              "1                 0           0  58800000.0  23800000.0  75600000  42000000   \n",
              "2                 0           0  58800000.0  23800000.0  75600000  42000000   \n",
              "3           4000290     4000290  31900000.0  37900000.0  75600000   7200397   \n",
              "4           4000286     4000286  31900000.0  37900000.0  75600000   7200399   \n",
              "...             ...         ...         ...         ...       ...       ...   \n",
              "1048570           0           0         0.0         0.0         0         0   \n",
              "1048571           0           0         0.0         0.0         0         0   \n",
              "1048572           0           0         0.0         0.0         0         0   \n",
              "1048573           0           0         0.0         0.0         0         0   \n",
              "1048574           0           0         0.0         0.0         0         0   \n",
              "\n",
              "          Label  \n",
              "0        Benign  \n",
              "1        Benign  \n",
              "2        Benign  \n",
              "3        Benign  \n",
              "4        Benign  \n",
              "...         ...  \n",
              "1048570  Benign  \n",
              "1048571  Benign  \n",
              "1048572  Benign  \n",
              "1048573  Benign  \n",
              "1048574  Benign  \n",
              "\n",
              "[1048575 rows x 80 columns]"
            ],
            "text/html": [
              "\n",
              "  <div id=\"df-d52cdbd2-c297-4276-8172-f4ddde7c56b4\" class=\"colab-df-container\">\n",
              "    <div>\n",
              "<style scoped>\n",
              "    .dataframe tbody tr th:only-of-type {\n",
              "        vertical-align: middle;\n",
              "    }\n",
              "\n",
              "    .dataframe tbody tr th {\n",
              "        vertical-align: top;\n",
              "    }\n",
              "\n",
              "    .dataframe thead th {\n",
              "        text-align: right;\n",
              "    }\n",
              "</style>\n",
              "<table border=\"1\" class=\"dataframe\">\n",
              "  <thead>\n",
              "    <tr style=\"text-align: right;\">\n",
              "      <th></th>\n",
              "      <th>Dst Port</th>\n",
              "      <th>Protocol</th>\n",
              "      <th>Timestamp</th>\n",
              "      <th>Flow Duration</th>\n",
              "      <th>Tot Fwd Pkts</th>\n",
              "      <th>Tot Bwd Pkts</th>\n",
              "      <th>TotLen Fwd Pkts</th>\n",
              "      <th>TotLen Bwd Pkts</th>\n",
              "      <th>Fwd Pkt Len Max</th>\n",
              "      <th>Fwd Pkt Len Min</th>\n",
              "      <th>...</th>\n",
              "      <th>Fwd Seg Size Min</th>\n",
              "      <th>Active Mean</th>\n",
              "      <th>Active Std</th>\n",
              "      <th>Active Max</th>\n",
              "      <th>Active Min</th>\n",
              "      <th>Idle Mean</th>\n",
              "      <th>Idle Std</th>\n",
              "      <th>Idle Max</th>\n",
              "      <th>Idle Min</th>\n",
              "      <th>Label</th>\n",
              "    </tr>\n",
              "  </thead>\n",
              "  <tbody>\n",
              "    <tr>\n",
              "      <th>0</th>\n",
              "      <td>80</td>\n",
              "      <td>6</td>\n",
              "      <td>21/02/2018 08:33:25</td>\n",
              "      <td>37953</td>\n",
              "      <td>5</td>\n",
              "      <td>3</td>\n",
              "      <td>135</td>\n",
              "      <td>127</td>\n",
              "      <td>135</td>\n",
              "      <td>0</td>\n",
              "      <td>...</td>\n",
              "      <td>32</td>\n",
              "      <td>0.0</td>\n",
              "      <td>0.0</td>\n",
              "      <td>0</td>\n",
              "      <td>0</td>\n",
              "      <td>0.0</td>\n",
              "      <td>0.0</td>\n",
              "      <td>0</td>\n",
              "      <td>0</td>\n",
              "      <td>Benign</td>\n",
              "    </tr>\n",
              "    <tr>\n",
              "      <th>1</th>\n",
              "      <td>500</td>\n",
              "      <td>17</td>\n",
              "      <td>21/02/2018 08:33:06</td>\n",
              "      <td>117573474</td>\n",
              "      <td>3</td>\n",
              "      <td>0</td>\n",
              "      <td>1500</td>\n",
              "      <td>0</td>\n",
              "      <td>500</td>\n",
              "      <td>500</td>\n",
              "      <td>...</td>\n",
              "      <td>8</td>\n",
              "      <td>0.0</td>\n",
              "      <td>0.0</td>\n",
              "      <td>0</td>\n",
              "      <td>0</td>\n",
              "      <td>58800000.0</td>\n",
              "      <td>23800000.0</td>\n",
              "      <td>75600000</td>\n",
              "      <td>42000000</td>\n",
              "      <td>Benign</td>\n",
              "    </tr>\n",
              "    <tr>\n",
              "      <th>2</th>\n",
              "      <td>500</td>\n",
              "      <td>17</td>\n",
              "      <td>21/02/2018 08:33:06</td>\n",
              "      <td>117573474</td>\n",
              "      <td>3</td>\n",
              "      <td>0</td>\n",
              "      <td>1500</td>\n",
              "      <td>0</td>\n",
              "      <td>500</td>\n",
              "      <td>500</td>\n",
              "      <td>...</td>\n",
              "      <td>8</td>\n",
              "      <td>0.0</td>\n",
              "      <td>0.0</td>\n",
              "      <td>0</td>\n",
              "      <td>0</td>\n",
              "      <td>58800000.0</td>\n",
              "      <td>23800000.0</td>\n",
              "      <td>75600000</td>\n",
              "      <td>42000000</td>\n",
              "      <td>Benign</td>\n",
              "    </tr>\n",
              "    <tr>\n",
              "      <th>3</th>\n",
              "      <td>500</td>\n",
              "      <td>17</td>\n",
              "      <td>21/02/2018 08:33:11</td>\n",
              "      <td>99743998</td>\n",
              "      <td>5</td>\n",
              "      <td>0</td>\n",
              "      <td>2500</td>\n",
              "      <td>0</td>\n",
              "      <td>500</td>\n",
              "      <td>500</td>\n",
              "      <td>...</td>\n",
              "      <td>8</td>\n",
              "      <td>4000290.0</td>\n",
              "      <td>0.0</td>\n",
              "      <td>4000290</td>\n",
              "      <td>4000290</td>\n",
              "      <td>31900000.0</td>\n",
              "      <td>37900000.0</td>\n",
              "      <td>75600000</td>\n",
              "      <td>7200397</td>\n",
              "      <td>Benign</td>\n",
              "    </tr>\n",
              "    <tr>\n",
              "      <th>4</th>\n",
              "      <td>500</td>\n",
              "      <td>17</td>\n",
              "      <td>21/02/2018 08:33:11</td>\n",
              "      <td>99743999</td>\n",
              "      <td>5</td>\n",
              "      <td>0</td>\n",
              "      <td>2500</td>\n",
              "      <td>0</td>\n",
              "      <td>500</td>\n",
              "      <td>500</td>\n",
              "      <td>...</td>\n",
              "      <td>8</td>\n",
              "      <td>4000286.0</td>\n",
              "      <td>0.0</td>\n",
              "      <td>4000286</td>\n",
              "      <td>4000286</td>\n",
              "      <td>31900000.0</td>\n",
              "      <td>37900000.0</td>\n",
              "      <td>75600000</td>\n",
              "      <td>7200399</td>\n",
              "      <td>Benign</td>\n",
              "    </tr>\n",
              "    <tr>\n",
              "      <th>...</th>\n",
              "      <td>...</td>\n",
              "      <td>...</td>\n",
              "      <td>...</td>\n",
              "      <td>...</td>\n",
              "      <td>...</td>\n",
              "      <td>...</td>\n",
              "      <td>...</td>\n",
              "      <td>...</td>\n",
              "      <td>...</td>\n",
              "      <td>...</td>\n",
              "      <td>...</td>\n",
              "      <td>...</td>\n",
              "      <td>...</td>\n",
              "      <td>...</td>\n",
              "      <td>...</td>\n",
              "      <td>...</td>\n",
              "      <td>...</td>\n",
              "      <td>...</td>\n",
              "      <td>...</td>\n",
              "      <td>...</td>\n",
              "      <td>...</td>\n",
              "    </tr>\n",
              "    <tr>\n",
              "      <th>1048570</th>\n",
              "      <td>55484</td>\n",
              "      <td>6</td>\n",
              "      <td>21/02/2018 02:33:29</td>\n",
              "      <td>1252</td>\n",
              "      <td>5</td>\n",
              "      <td>2</td>\n",
              "      <td>935</td>\n",
              "      <td>274</td>\n",
              "      <td>935</td>\n",
              "      <td>0</td>\n",
              "      <td>...</td>\n",
              "      <td>20</td>\n",
              "      <td>0.0</td>\n",
              "      <td>0.0</td>\n",
              "      <td>0</td>\n",
              "      <td>0</td>\n",
              "      <td>0.0</td>\n",
              "      <td>0.0</td>\n",
              "      <td>0</td>\n",
              "      <td>0</td>\n",
              "      <td>Benign</td>\n",
              "    </tr>\n",
              "    <tr>\n",
              "      <th>1048571</th>\n",
              "      <td>57624</td>\n",
              "      <td>6</td>\n",
              "      <td>21/02/2018 02:33:29</td>\n",
              "      <td>19055</td>\n",
              "      <td>5</td>\n",
              "      <td>2</td>\n",
              "      <td>935</td>\n",
              "      <td>341</td>\n",
              "      <td>935</td>\n",
              "      <td>0</td>\n",
              "      <td>...</td>\n",
              "      <td>20</td>\n",
              "      <td>0.0</td>\n",
              "      <td>0.0</td>\n",
              "      <td>0</td>\n",
              "      <td>0</td>\n",
              "      <td>0.0</td>\n",
              "      <td>0.0</td>\n",
              "      <td>0</td>\n",
              "      <td>0</td>\n",
              "      <td>Benign</td>\n",
              "    </tr>\n",
              "    <tr>\n",
              "      <th>1048572</th>\n",
              "      <td>57623</td>\n",
              "      <td>6</td>\n",
              "      <td>21/02/2018 02:33:29</td>\n",
              "      <td>36677</td>\n",
              "      <td>5</td>\n",
              "      <td>2</td>\n",
              "      <td>935</td>\n",
              "      <td>341</td>\n",
              "      <td>935</td>\n",
              "      <td>0</td>\n",
              "      <td>...</td>\n",
              "      <td>20</td>\n",
              "      <td>0.0</td>\n",
              "      <td>0.0</td>\n",
              "      <td>0</td>\n",
              "      <td>0</td>\n",
              "      <td>0.0</td>\n",
              "      <td>0.0</td>\n",
              "      <td>0</td>\n",
              "      <td>0</td>\n",
              "      <td>Benign</td>\n",
              "    </tr>\n",
              "    <tr>\n",
              "      <th>1048573</th>\n",
              "      <td>57625</td>\n",
              "      <td>6</td>\n",
              "      <td>21/02/2018 02:33:29</td>\n",
              "      <td>1849</td>\n",
              "      <td>5</td>\n",
              "      <td>2</td>\n",
              "      <td>935</td>\n",
              "      <td>341</td>\n",
              "      <td>935</td>\n",
              "      <td>0</td>\n",
              "      <td>...</td>\n",
              "      <td>20</td>\n",
              "      <td>0.0</td>\n",
              "      <td>0.0</td>\n",
              "      <td>0</td>\n",
              "      <td>0</td>\n",
              "      <td>0.0</td>\n",
              "      <td>0.0</td>\n",
              "      <td>0</td>\n",
              "      <td>0</td>\n",
              "      <td>Benign</td>\n",
              "    </tr>\n",
              "    <tr>\n",
              "      <th>1048574</th>\n",
              "      <td>58120</td>\n",
              "      <td>6</td>\n",
              "      <td>21/02/2018 02:33:29</td>\n",
              "      <td>20580</td>\n",
              "      <td>5</td>\n",
              "      <td>2</td>\n",
              "      <td>935</td>\n",
              "      <td>299</td>\n",
              "      <td>935</td>\n",
              "      <td>0</td>\n",
              "      <td>...</td>\n",
              "      <td>20</td>\n",
              "      <td>0.0</td>\n",
              "      <td>0.0</td>\n",
              "      <td>0</td>\n",
              "      <td>0</td>\n",
              "      <td>0.0</td>\n",
              "      <td>0.0</td>\n",
              "      <td>0</td>\n",
              "      <td>0</td>\n",
              "      <td>Benign</td>\n",
              "    </tr>\n",
              "  </tbody>\n",
              "</table>\n",
              "<p>1048575 rows × 80 columns</p>\n",
              "</div>\n",
              "    <div class=\"colab-df-buttons\">\n",
              "\n",
              "  <div class=\"colab-df-container\">\n",
              "    <button class=\"colab-df-convert\" onclick=\"convertToInteractive('df-d52cdbd2-c297-4276-8172-f4ddde7c56b4')\"\n",
              "            title=\"Convert this dataframe to an interactive table.\"\n",
              "            style=\"display:none;\">\n",
              "\n",
              "  <svg xmlns=\"http://www.w3.org/2000/svg\" height=\"24px\" viewBox=\"0 -960 960 960\">\n",
              "    <path d=\"M120-120v-720h720v720H120Zm60-500h600v-160H180v160Zm220 220h160v-160H400v160Zm0 220h160v-160H400v160ZM180-400h160v-160H180v160Zm440 0h160v-160H620v160ZM180-180h160v-160H180v160Zm440 0h160v-160H620v160Z\"/>\n",
              "  </svg>\n",
              "    </button>\n",
              "\n",
              "  <style>\n",
              "    .colab-df-container {\n",
              "      display:flex;\n",
              "      gap: 12px;\n",
              "    }\n",
              "\n",
              "    .colab-df-convert {\n",
              "      background-color: #E8F0FE;\n",
              "      border: none;\n",
              "      border-radius: 50%;\n",
              "      cursor: pointer;\n",
              "      display: none;\n",
              "      fill: #1967D2;\n",
              "      height: 32px;\n",
              "      padding: 0 0 0 0;\n",
              "      width: 32px;\n",
              "    }\n",
              "\n",
              "    .colab-df-convert:hover {\n",
              "      background-color: #E2EBFA;\n",
              "      box-shadow: 0px 1px 2px rgba(60, 64, 67, 0.3), 0px 1px 3px 1px rgba(60, 64, 67, 0.15);\n",
              "      fill: #174EA6;\n",
              "    }\n",
              "\n",
              "    .colab-df-buttons div {\n",
              "      margin-bottom: 4px;\n",
              "    }\n",
              "\n",
              "    [theme=dark] .colab-df-convert {\n",
              "      background-color: #3B4455;\n",
              "      fill: #D2E3FC;\n",
              "    }\n",
              "\n",
              "    [theme=dark] .colab-df-convert:hover {\n",
              "      background-color: #434B5C;\n",
              "      box-shadow: 0px 1px 3px 1px rgba(0, 0, 0, 0.15);\n",
              "      filter: drop-shadow(0px 1px 2px rgba(0, 0, 0, 0.3));\n",
              "      fill: #FFFFFF;\n",
              "    }\n",
              "  </style>\n",
              "\n",
              "    <script>\n",
              "      const buttonEl =\n",
              "        document.querySelector('#df-d52cdbd2-c297-4276-8172-f4ddde7c56b4 button.colab-df-convert');\n",
              "      buttonEl.style.display =\n",
              "        google.colab.kernel.accessAllowed ? 'block' : 'none';\n",
              "\n",
              "      async function convertToInteractive(key) {\n",
              "        const element = document.querySelector('#df-d52cdbd2-c297-4276-8172-f4ddde7c56b4');\n",
              "        const dataTable =\n",
              "          await google.colab.kernel.invokeFunction('convertToInteractive',\n",
              "                                                    [key], {});\n",
              "        if (!dataTable) return;\n",
              "\n",
              "        const docLinkHtml = 'Like what you see? Visit the ' +\n",
              "          '<a target=\"_blank\" href=https://colab.research.google.com/notebooks/data_table.ipynb>data table notebook</a>'\n",
              "          + ' to learn more about interactive tables.';\n",
              "        element.innerHTML = '';\n",
              "        dataTable['output_type'] = 'display_data';\n",
              "        await google.colab.output.renderOutput(dataTable, element);\n",
              "        const docLink = document.createElement('div');\n",
              "        docLink.innerHTML = docLinkHtml;\n",
              "        element.appendChild(docLink);\n",
              "      }\n",
              "    </script>\n",
              "  </div>\n",
              "\n",
              "\n",
              "<div id=\"df-f31a42d4-53d5-4a98-92ca-02b8e4cf2eb2\">\n",
              "  <button class=\"colab-df-quickchart\" onclick=\"quickchart('df-f31a42d4-53d5-4a98-92ca-02b8e4cf2eb2')\"\n",
              "            title=\"Suggest charts\"\n",
              "            style=\"display:none;\">\n",
              "\n",
              "<svg xmlns=\"http://www.w3.org/2000/svg\" height=\"24px\"viewBox=\"0 0 24 24\"\n",
              "     width=\"24px\">\n",
              "    <g>\n",
              "        <path d=\"M19 3H5c-1.1 0-2 .9-2 2v14c0 1.1.9 2 2 2h14c1.1 0 2-.9 2-2V5c0-1.1-.9-2-2-2zM9 17H7v-7h2v7zm4 0h-2V7h2v10zm4 0h-2v-4h2v4z\"/>\n",
              "    </g>\n",
              "</svg>\n",
              "  </button>\n",
              "\n",
              "<style>\n",
              "  .colab-df-quickchart {\n",
              "      --bg-color: #E8F0FE;\n",
              "      --fill-color: #1967D2;\n",
              "      --hover-bg-color: #E2EBFA;\n",
              "      --hover-fill-color: #174EA6;\n",
              "      --disabled-fill-color: #AAA;\n",
              "      --disabled-bg-color: #DDD;\n",
              "  }\n",
              "\n",
              "  [theme=dark] .colab-df-quickchart {\n",
              "      --bg-color: #3B4455;\n",
              "      --fill-color: #D2E3FC;\n",
              "      --hover-bg-color: #434B5C;\n",
              "      --hover-fill-color: #FFFFFF;\n",
              "      --disabled-bg-color: #3B4455;\n",
              "      --disabled-fill-color: #666;\n",
              "  }\n",
              "\n",
              "  .colab-df-quickchart {\n",
              "    background-color: var(--bg-color);\n",
              "    border: none;\n",
              "    border-radius: 50%;\n",
              "    cursor: pointer;\n",
              "    display: none;\n",
              "    fill: var(--fill-color);\n",
              "    height: 32px;\n",
              "    padding: 0;\n",
              "    width: 32px;\n",
              "  }\n",
              "\n",
              "  .colab-df-quickchart:hover {\n",
              "    background-color: var(--hover-bg-color);\n",
              "    box-shadow: 0 1px 2px rgba(60, 64, 67, 0.3), 0 1px 3px 1px rgba(60, 64, 67, 0.15);\n",
              "    fill: var(--button-hover-fill-color);\n",
              "  }\n",
              "\n",
              "  .colab-df-quickchart-complete:disabled,\n",
              "  .colab-df-quickchart-complete:disabled:hover {\n",
              "    background-color: var(--disabled-bg-color);\n",
              "    fill: var(--disabled-fill-color);\n",
              "    box-shadow: none;\n",
              "  }\n",
              "\n",
              "  .colab-df-spinner {\n",
              "    border: 2px solid var(--fill-color);\n",
              "    border-color: transparent;\n",
              "    border-bottom-color: var(--fill-color);\n",
              "    animation:\n",
              "      spin 1s steps(1) infinite;\n",
              "  }\n",
              "\n",
              "  @keyframes spin {\n",
              "    0% {\n",
              "      border-color: transparent;\n",
              "      border-bottom-color: var(--fill-color);\n",
              "      border-left-color: var(--fill-color);\n",
              "    }\n",
              "    20% {\n",
              "      border-color: transparent;\n",
              "      border-left-color: var(--fill-color);\n",
              "      border-top-color: var(--fill-color);\n",
              "    }\n",
              "    30% {\n",
              "      border-color: transparent;\n",
              "      border-left-color: var(--fill-color);\n",
              "      border-top-color: var(--fill-color);\n",
              "      border-right-color: var(--fill-color);\n",
              "    }\n",
              "    40% {\n",
              "      border-color: transparent;\n",
              "      border-right-color: var(--fill-color);\n",
              "      border-top-color: var(--fill-color);\n",
              "    }\n",
              "    60% {\n",
              "      border-color: transparent;\n",
              "      border-right-color: var(--fill-color);\n",
              "    }\n",
              "    80% {\n",
              "      border-color: transparent;\n",
              "      border-right-color: var(--fill-color);\n",
              "      border-bottom-color: var(--fill-color);\n",
              "    }\n",
              "    90% {\n",
              "      border-color: transparent;\n",
              "      border-bottom-color: var(--fill-color);\n",
              "    }\n",
              "  }\n",
              "</style>\n",
              "\n",
              "  <script>\n",
              "    async function quickchart(key) {\n",
              "      const quickchartButtonEl =\n",
              "        document.querySelector('#' + key + ' button');\n",
              "      quickchartButtonEl.disabled = true;  // To prevent multiple clicks.\n",
              "      quickchartButtonEl.classList.add('colab-df-spinner');\n",
              "      try {\n",
              "        const charts = await google.colab.kernel.invokeFunction(\n",
              "            'suggestCharts', [key], {});\n",
              "      } catch (error) {\n",
              "        console.error('Error during call to suggestCharts:', error);\n",
              "      }\n",
              "      quickchartButtonEl.classList.remove('colab-df-spinner');\n",
              "      quickchartButtonEl.classList.add('colab-df-quickchart-complete');\n",
              "    }\n",
              "    (() => {\n",
              "      let quickchartButtonEl =\n",
              "        document.querySelector('#df-f31a42d4-53d5-4a98-92ca-02b8e4cf2eb2 button');\n",
              "      quickchartButtonEl.style.display =\n",
              "        google.colab.kernel.accessAllowed ? 'block' : 'none';\n",
              "    })();\n",
              "  </script>\n",
              "</div>\n",
              "    </div>\n",
              "  </div>\n"
            ]
          },
          "metadata": {},
          "execution_count": 3
        }
      ]
    },
    {
      "cell_type": "markdown",
      "source": [
        "# Datasetin tiedot\n",
        "\n",
        "Dataa on reilu miljoon riviä ja 80 saraketta. Yllättäen flowdatasta näyttää kuitenkin puuttuvan lähde- ja kohdeosoitteet, mitkä esim. standardiin NetFlow formaattiin kuuluvat."
      ],
      "metadata": {
        "id": "bwK7ZinpfPWb"
      }
    },
    {
      "cell_type": "code",
      "source": [
        "dataset.info()\n",
        "\n",
        "print()\n",
        "\n",
        "dataset['Label'].value_counts()"
      ],
      "metadata": {
        "colab": {
          "base_uri": "https://localhost:8080/"
        },
        "id": "EwdThFMsdRvP",
        "outputId": "427a5c9f-87fa-449e-f97c-0187c260f72e"
      },
      "execution_count": 4,
      "outputs": [
        {
          "output_type": "stream",
          "name": "stdout",
          "text": [
            "<class 'pandas.core.frame.DataFrame'>\n",
            "RangeIndex: 1048575 entries, 0 to 1048574\n",
            "Data columns (total 80 columns):\n",
            " #   Column             Non-Null Count    Dtype  \n",
            "---  ------             --------------    -----  \n",
            " 0   Dst Port           1048575 non-null  int64  \n",
            " 1   Protocol           1048575 non-null  int64  \n",
            " 2   Timestamp          1048575 non-null  object \n",
            " 3   Flow Duration      1048575 non-null  int64  \n",
            " 4   Tot Fwd Pkts       1048575 non-null  int64  \n",
            " 5   Tot Bwd Pkts       1048575 non-null  int64  \n",
            " 6   TotLen Fwd Pkts    1048575 non-null  int64  \n",
            " 7   TotLen Bwd Pkts    1048575 non-null  int64  \n",
            " 8   Fwd Pkt Len Max    1048575 non-null  int64  \n",
            " 9   Fwd Pkt Len Min    1048575 non-null  int64  \n",
            " 10  Fwd Pkt Len Mean   1048575 non-null  float64\n",
            " 11  Fwd Pkt Len Std    1048575 non-null  float64\n",
            " 12  Bwd Pkt Len Max    1048575 non-null  int64  \n",
            " 13  Bwd Pkt Len Min    1048575 non-null  int64  \n",
            " 14  Bwd Pkt Len Mean   1048575 non-null  float64\n",
            " 15  Bwd Pkt Len Std    1048575 non-null  float64\n",
            " 16  Flow Byts/s        1048575 non-null  float64\n",
            " 17  Flow Pkts/s        1048575 non-null  float64\n",
            " 18  Flow IAT Mean      1048575 non-null  float64\n",
            " 19  Flow IAT Std       1048575 non-null  float64\n",
            " 20  Flow IAT Max       1048575 non-null  int64  \n",
            " 21  Flow IAT Min       1048575 non-null  int64  \n",
            " 22  Fwd IAT Tot        1048575 non-null  int64  \n",
            " 23  Fwd IAT Mean       1048575 non-null  float64\n",
            " 24  Fwd IAT Std        1048575 non-null  float64\n",
            " 25  Fwd IAT Max        1048575 non-null  int64  \n",
            " 26  Fwd IAT Min        1048575 non-null  int64  \n",
            " 27  Bwd IAT Tot        1048575 non-null  int64  \n",
            " 28  Bwd IAT Mean       1048575 non-null  float64\n",
            " 29  Bwd IAT Std        1048575 non-null  float64\n",
            " 30  Bwd IAT Max        1048575 non-null  int64  \n",
            " 31  Bwd IAT Min        1048575 non-null  int64  \n",
            " 32  Fwd PSH Flags      1048575 non-null  int64  \n",
            " 33  Bwd PSH Flags      1048575 non-null  int64  \n",
            " 34  Fwd URG Flags      1048575 non-null  int64  \n",
            " 35  Bwd URG Flags      1048575 non-null  int64  \n",
            " 36  Fwd Header Len     1048575 non-null  int64  \n",
            " 37  Bwd Header Len     1048575 non-null  int64  \n",
            " 38  Fwd Pkts/s         1048575 non-null  float64\n",
            " 39  Bwd Pkts/s         1048575 non-null  float64\n",
            " 40  Pkt Len Min        1048575 non-null  int64  \n",
            " 41  Pkt Len Max        1048575 non-null  int64  \n",
            " 42  Pkt Len Mean       1048575 non-null  float64\n",
            " 43  Pkt Len Std        1048575 non-null  float64\n",
            " 44  Pkt Len Var        1048575 non-null  float64\n",
            " 45  FIN Flag Cnt       1048575 non-null  int64  \n",
            " 46  SYN Flag Cnt       1048575 non-null  int64  \n",
            " 47  RST Flag Cnt       1048575 non-null  int64  \n",
            " 48  PSH Flag Cnt       1048575 non-null  int64  \n",
            " 49  ACK Flag Cnt       1048575 non-null  int64  \n",
            " 50  URG Flag Cnt       1048575 non-null  int64  \n",
            " 51  CWE Flag Count     1048575 non-null  int64  \n",
            " 52  ECE Flag Cnt       1048575 non-null  int64  \n",
            " 53  Down/Up Ratio      1048575 non-null  int64  \n",
            " 54  Pkt Size Avg       1048575 non-null  float64\n",
            " 55  Fwd Seg Size Avg   1048575 non-null  float64\n",
            " 56  Bwd Seg Size Avg   1048575 non-null  float64\n",
            " 57  Fwd Byts/b Avg     1048575 non-null  int64  \n",
            " 58  Fwd Pkts/b Avg     1048575 non-null  int64  \n",
            " 59  Fwd Blk Rate Avg   1048575 non-null  int64  \n",
            " 60  Bwd Byts/b Avg     1048575 non-null  int64  \n",
            " 61  Bwd Pkts/b Avg     1048575 non-null  int64  \n",
            " 62  Bwd Blk Rate Avg   1048575 non-null  int64  \n",
            " 63  Subflow Fwd Pkts   1048575 non-null  int64  \n",
            " 64  Subflow Fwd Byts   1048575 non-null  int64  \n",
            " 65  Subflow Bwd Pkts   1048575 non-null  int64  \n",
            " 66  Subflow Bwd Byts   1048575 non-null  int64  \n",
            " 67  Init Fwd Win Byts  1048575 non-null  int64  \n",
            " 68  Init Bwd Win Byts  1048575 non-null  int64  \n",
            " 69  Fwd Act Data Pkts  1048575 non-null  int64  \n",
            " 70  Fwd Seg Size Min   1048575 non-null  int64  \n",
            " 71  Active Mean        1048575 non-null  float64\n",
            " 72  Active Std         1048575 non-null  float64\n",
            " 73  Active Max         1048575 non-null  int64  \n",
            " 74  Active Min         1048575 non-null  int64  \n",
            " 75  Idle Mean          1048575 non-null  float64\n",
            " 76  Idle Std           1048575 non-null  float64\n",
            " 77  Idle Max           1048575 non-null  int64  \n",
            " 78  Idle Min           1048575 non-null  int64  \n",
            " 79  Label              1048575 non-null  object \n",
            "dtypes: float64(24), int64(54), object(2)\n",
            "memory usage: 640.0+ MB\n",
            "\n"
          ]
        },
        {
          "output_type": "execute_result",
          "data": {
            "text/plain": [
              "DDOS attack-HOIC        686012\n",
              "Benign                  360833\n",
              "DDOS attack-LOIC-UDP      1730\n",
              "Name: Label, dtype: int64"
            ]
          },
          "metadata": {},
          "execution_count": 4
        }
      ]
    },
    {
      "cell_type": "markdown",
      "source": [
        "Labelien tarkastelun/laskemisen perusteella datan riveistä enemmistö on haitallista HOICin liikennettä:\n",
        "\n",
        "DDOS attack-HOIC        686012\n",
        "\n",
        "Benign                  360833\n",
        "\n",
        "DDOS attack-LOIC-UDP      1730\n",
        "\n",
        "Jos haitallista liikennettä on enemmän kuin normaalia, voi poikkeaman havaitsemisesta tulla äkkiä hieman vääristynyttä. Hyökkäysten aikaleimat ovat kuitenkin tiedossa, joten dataa paloittelemalla aikaleimoja rajaamalla voi yrittää tilannetta paikata.\n",
        "\n",
        "DDOS-LOIC-UDP 10:09 - 10:45\n",
        "\n",
        "DDOS-HOIC 14:05 - 15:05\n",
        "\n",
        "Yllä olevan datasetin tulosteen perusteella aikaleimojen perusteella kumpaakaan aikaikkunaa ei setistä löytyisi elleivät aikaleimat ole 12h kellolla. Tarkastetaan miltä DDOS-HOIC aikaleimat setissä näyttävät."
      ],
      "metadata": {
        "id": "_Wk9bCl1fszG"
      }
    },
    {
      "cell_type": "code",
      "source": [
        "dataset.loc[dataset['Label'] == 'DDOS attack-HOIC']"
      ],
      "metadata": {
        "colab": {
          "base_uri": "https://localhost:8080/",
          "height": 615
        },
        "id": "dHlsrz1wgcgK",
        "outputId": "027add3c-9db2-410d-e765-f97f269ca0ab"
      },
      "execution_count": 5,
      "outputs": [
        {
          "output_type": "execute_result",
          "data": {
            "text/plain": [
              "         Dst Port  Protocol            Timestamp  Flow Duration  Tot Fwd Pkts  \\\n",
              "3930           80         6  21/02/2018 02:11:08          31105             3   \n",
              "3931           80         6  21/02/2018 02:11:08          30092             3   \n",
              "3932           80         6  21/02/2018 02:11:08          33993             3   \n",
              "3933           80         6  21/02/2018 02:11:08          33099             3   \n",
              "3934           80         6  21/02/2018 02:11:08          32149             3   \n",
              "...           ...       ...                  ...            ...           ...   \n",
              "1048563        80         6  21/02/2018 02:33:29          10855             2   \n",
              "1048564        80         6  21/02/2018 02:33:29           1330             2   \n",
              "1048565        80         6  21/02/2018 02:33:29           1638             2   \n",
              "1048568        80         6  21/02/2018 02:33:29           1480             2   \n",
              "1048569        80         6  21/02/2018 02:33:29           1827             2   \n",
              "\n",
              "         Tot Bwd Pkts  TotLen Fwd Pkts  TotLen Bwd Pkts  Fwd Pkt Len Max  \\\n",
              "3930                4              336              935              336   \n",
              "3931                4              336              935              336   \n",
              "3932                4              336              935              336   \n",
              "3933                4              336              935              336   \n",
              "3934                4              336              935              336   \n",
              "...               ...              ...              ...              ...   \n",
              "1048563             0                0                0                0   \n",
              "1048564             0                0                0                0   \n",
              "1048565             0                0                0                0   \n",
              "1048568             0                0                0                0   \n",
              "1048569             0                0                0                0   \n",
              "\n",
              "         Fwd Pkt Len Min  ...  Fwd Seg Size Min  Active Mean  Active Std  \\\n",
              "3930                   0  ...                20          0.0         0.0   \n",
              "3931                   0  ...                20          0.0         0.0   \n",
              "3932                   0  ...                20          0.0         0.0   \n",
              "3933                   0  ...                20          0.0         0.0   \n",
              "3934                   0  ...                20          0.0         0.0   \n",
              "...                  ...  ...               ...          ...         ...   \n",
              "1048563                0  ...                20          0.0         0.0   \n",
              "1048564                0  ...                20          0.0         0.0   \n",
              "1048565                0  ...                20          0.0         0.0   \n",
              "1048568                0  ...                20          0.0         0.0   \n",
              "1048569                0  ...                20          0.0         0.0   \n",
              "\n",
              "         Active Max  Active Min  Idle Mean  Idle Std  Idle Max  Idle Min  \\\n",
              "3930              0           0        0.0       0.0         0         0   \n",
              "3931              0           0        0.0       0.0         0         0   \n",
              "3932              0           0        0.0       0.0         0         0   \n",
              "3933              0           0        0.0       0.0         0         0   \n",
              "3934              0           0        0.0       0.0         0         0   \n",
              "...             ...         ...        ...       ...       ...       ...   \n",
              "1048563           0           0        0.0       0.0         0         0   \n",
              "1048564           0           0        0.0       0.0         0         0   \n",
              "1048565           0           0        0.0       0.0         0         0   \n",
              "1048568           0           0        0.0       0.0         0         0   \n",
              "1048569           0           0        0.0       0.0         0         0   \n",
              "\n",
              "                    Label  \n",
              "3930     DDOS attack-HOIC  \n",
              "3931     DDOS attack-HOIC  \n",
              "3932     DDOS attack-HOIC  \n",
              "3933     DDOS attack-HOIC  \n",
              "3934     DDOS attack-HOIC  \n",
              "...                   ...  \n",
              "1048563  DDOS attack-HOIC  \n",
              "1048564  DDOS attack-HOIC  \n",
              "1048565  DDOS attack-HOIC  \n",
              "1048568  DDOS attack-HOIC  \n",
              "1048569  DDOS attack-HOIC  \n",
              "\n",
              "[686012 rows x 80 columns]"
            ],
            "text/html": [
              "\n",
              "  <div id=\"df-9d4ce856-1e64-4252-acf5-5dfd9e68ee11\" class=\"colab-df-container\">\n",
              "    <div>\n",
              "<style scoped>\n",
              "    .dataframe tbody tr th:only-of-type {\n",
              "        vertical-align: middle;\n",
              "    }\n",
              "\n",
              "    .dataframe tbody tr th {\n",
              "        vertical-align: top;\n",
              "    }\n",
              "\n",
              "    .dataframe thead th {\n",
              "        text-align: right;\n",
              "    }\n",
              "</style>\n",
              "<table border=\"1\" class=\"dataframe\">\n",
              "  <thead>\n",
              "    <tr style=\"text-align: right;\">\n",
              "      <th></th>\n",
              "      <th>Dst Port</th>\n",
              "      <th>Protocol</th>\n",
              "      <th>Timestamp</th>\n",
              "      <th>Flow Duration</th>\n",
              "      <th>Tot Fwd Pkts</th>\n",
              "      <th>Tot Bwd Pkts</th>\n",
              "      <th>TotLen Fwd Pkts</th>\n",
              "      <th>TotLen Bwd Pkts</th>\n",
              "      <th>Fwd Pkt Len Max</th>\n",
              "      <th>Fwd Pkt Len Min</th>\n",
              "      <th>...</th>\n",
              "      <th>Fwd Seg Size Min</th>\n",
              "      <th>Active Mean</th>\n",
              "      <th>Active Std</th>\n",
              "      <th>Active Max</th>\n",
              "      <th>Active Min</th>\n",
              "      <th>Idle Mean</th>\n",
              "      <th>Idle Std</th>\n",
              "      <th>Idle Max</th>\n",
              "      <th>Idle Min</th>\n",
              "      <th>Label</th>\n",
              "    </tr>\n",
              "  </thead>\n",
              "  <tbody>\n",
              "    <tr>\n",
              "      <th>3930</th>\n",
              "      <td>80</td>\n",
              "      <td>6</td>\n",
              "      <td>21/02/2018 02:11:08</td>\n",
              "      <td>31105</td>\n",
              "      <td>3</td>\n",
              "      <td>4</td>\n",
              "      <td>336</td>\n",
              "      <td>935</td>\n",
              "      <td>336</td>\n",
              "      <td>0</td>\n",
              "      <td>...</td>\n",
              "      <td>20</td>\n",
              "      <td>0.0</td>\n",
              "      <td>0.0</td>\n",
              "      <td>0</td>\n",
              "      <td>0</td>\n",
              "      <td>0.0</td>\n",
              "      <td>0.0</td>\n",
              "      <td>0</td>\n",
              "      <td>0</td>\n",
              "      <td>DDOS attack-HOIC</td>\n",
              "    </tr>\n",
              "    <tr>\n",
              "      <th>3931</th>\n",
              "      <td>80</td>\n",
              "      <td>6</td>\n",
              "      <td>21/02/2018 02:11:08</td>\n",
              "      <td>30092</td>\n",
              "      <td>3</td>\n",
              "      <td>4</td>\n",
              "      <td>336</td>\n",
              "      <td>935</td>\n",
              "      <td>336</td>\n",
              "      <td>0</td>\n",
              "      <td>...</td>\n",
              "      <td>20</td>\n",
              "      <td>0.0</td>\n",
              "      <td>0.0</td>\n",
              "      <td>0</td>\n",
              "      <td>0</td>\n",
              "      <td>0.0</td>\n",
              "      <td>0.0</td>\n",
              "      <td>0</td>\n",
              "      <td>0</td>\n",
              "      <td>DDOS attack-HOIC</td>\n",
              "    </tr>\n",
              "    <tr>\n",
              "      <th>3932</th>\n",
              "      <td>80</td>\n",
              "      <td>6</td>\n",
              "      <td>21/02/2018 02:11:08</td>\n",
              "      <td>33993</td>\n",
              "      <td>3</td>\n",
              "      <td>4</td>\n",
              "      <td>336</td>\n",
              "      <td>935</td>\n",
              "      <td>336</td>\n",
              "      <td>0</td>\n",
              "      <td>...</td>\n",
              "      <td>20</td>\n",
              "      <td>0.0</td>\n",
              "      <td>0.0</td>\n",
              "      <td>0</td>\n",
              "      <td>0</td>\n",
              "      <td>0.0</td>\n",
              "      <td>0.0</td>\n",
              "      <td>0</td>\n",
              "      <td>0</td>\n",
              "      <td>DDOS attack-HOIC</td>\n",
              "    </tr>\n",
              "    <tr>\n",
              "      <th>3933</th>\n",
              "      <td>80</td>\n",
              "      <td>6</td>\n",
              "      <td>21/02/2018 02:11:08</td>\n",
              "      <td>33099</td>\n",
              "      <td>3</td>\n",
              "      <td>4</td>\n",
              "      <td>336</td>\n",
              "      <td>935</td>\n",
              "      <td>336</td>\n",
              "      <td>0</td>\n",
              "      <td>...</td>\n",
              "      <td>20</td>\n",
              "      <td>0.0</td>\n",
              "      <td>0.0</td>\n",
              "      <td>0</td>\n",
              "      <td>0</td>\n",
              "      <td>0.0</td>\n",
              "      <td>0.0</td>\n",
              "      <td>0</td>\n",
              "      <td>0</td>\n",
              "      <td>DDOS attack-HOIC</td>\n",
              "    </tr>\n",
              "    <tr>\n",
              "      <th>3934</th>\n",
              "      <td>80</td>\n",
              "      <td>6</td>\n",
              "      <td>21/02/2018 02:11:08</td>\n",
              "      <td>32149</td>\n",
              "      <td>3</td>\n",
              "      <td>4</td>\n",
              "      <td>336</td>\n",
              "      <td>935</td>\n",
              "      <td>336</td>\n",
              "      <td>0</td>\n",
              "      <td>...</td>\n",
              "      <td>20</td>\n",
              "      <td>0.0</td>\n",
              "      <td>0.0</td>\n",
              "      <td>0</td>\n",
              "      <td>0</td>\n",
              "      <td>0.0</td>\n",
              "      <td>0.0</td>\n",
              "      <td>0</td>\n",
              "      <td>0</td>\n",
              "      <td>DDOS attack-HOIC</td>\n",
              "    </tr>\n",
              "    <tr>\n",
              "      <th>...</th>\n",
              "      <td>...</td>\n",
              "      <td>...</td>\n",
              "      <td>...</td>\n",
              "      <td>...</td>\n",
              "      <td>...</td>\n",
              "      <td>...</td>\n",
              "      <td>...</td>\n",
              "      <td>...</td>\n",
              "      <td>...</td>\n",
              "      <td>...</td>\n",
              "      <td>...</td>\n",
              "      <td>...</td>\n",
              "      <td>...</td>\n",
              "      <td>...</td>\n",
              "      <td>...</td>\n",
              "      <td>...</td>\n",
              "      <td>...</td>\n",
              "      <td>...</td>\n",
              "      <td>...</td>\n",
              "      <td>...</td>\n",
              "      <td>...</td>\n",
              "    </tr>\n",
              "    <tr>\n",
              "      <th>1048563</th>\n",
              "      <td>80</td>\n",
              "      <td>6</td>\n",
              "      <td>21/02/2018 02:33:29</td>\n",
              "      <td>10855</td>\n",
              "      <td>2</td>\n",
              "      <td>0</td>\n",
              "      <td>0</td>\n",
              "      <td>0</td>\n",
              "      <td>0</td>\n",
              "      <td>0</td>\n",
              "      <td>...</td>\n",
              "      <td>20</td>\n",
              "      <td>0.0</td>\n",
              "      <td>0.0</td>\n",
              "      <td>0</td>\n",
              "      <td>0</td>\n",
              "      <td>0.0</td>\n",
              "      <td>0.0</td>\n",
              "      <td>0</td>\n",
              "      <td>0</td>\n",
              "      <td>DDOS attack-HOIC</td>\n",
              "    </tr>\n",
              "    <tr>\n",
              "      <th>1048564</th>\n",
              "      <td>80</td>\n",
              "      <td>6</td>\n",
              "      <td>21/02/2018 02:33:29</td>\n",
              "      <td>1330</td>\n",
              "      <td>2</td>\n",
              "      <td>0</td>\n",
              "      <td>0</td>\n",
              "      <td>0</td>\n",
              "      <td>0</td>\n",
              "      <td>0</td>\n",
              "      <td>...</td>\n",
              "      <td>20</td>\n",
              "      <td>0.0</td>\n",
              "      <td>0.0</td>\n",
              "      <td>0</td>\n",
              "      <td>0</td>\n",
              "      <td>0.0</td>\n",
              "      <td>0.0</td>\n",
              "      <td>0</td>\n",
              "      <td>0</td>\n",
              "      <td>DDOS attack-HOIC</td>\n",
              "    </tr>\n",
              "    <tr>\n",
              "      <th>1048565</th>\n",
              "      <td>80</td>\n",
              "      <td>6</td>\n",
              "      <td>21/02/2018 02:33:29</td>\n",
              "      <td>1638</td>\n",
              "      <td>2</td>\n",
              "      <td>0</td>\n",
              "      <td>0</td>\n",
              "      <td>0</td>\n",
              "      <td>0</td>\n",
              "      <td>0</td>\n",
              "      <td>...</td>\n",
              "      <td>20</td>\n",
              "      <td>0.0</td>\n",
              "      <td>0.0</td>\n",
              "      <td>0</td>\n",
              "      <td>0</td>\n",
              "      <td>0.0</td>\n",
              "      <td>0.0</td>\n",
              "      <td>0</td>\n",
              "      <td>0</td>\n",
              "      <td>DDOS attack-HOIC</td>\n",
              "    </tr>\n",
              "    <tr>\n",
              "      <th>1048568</th>\n",
              "      <td>80</td>\n",
              "      <td>6</td>\n",
              "      <td>21/02/2018 02:33:29</td>\n",
              "      <td>1480</td>\n",
              "      <td>2</td>\n",
              "      <td>0</td>\n",
              "      <td>0</td>\n",
              "      <td>0</td>\n",
              "      <td>0</td>\n",
              "      <td>0</td>\n",
              "      <td>...</td>\n",
              "      <td>20</td>\n",
              "      <td>0.0</td>\n",
              "      <td>0.0</td>\n",
              "      <td>0</td>\n",
              "      <td>0</td>\n",
              "      <td>0.0</td>\n",
              "      <td>0.0</td>\n",
              "      <td>0</td>\n",
              "      <td>0</td>\n",
              "      <td>DDOS attack-HOIC</td>\n",
              "    </tr>\n",
              "    <tr>\n",
              "      <th>1048569</th>\n",
              "      <td>80</td>\n",
              "      <td>6</td>\n",
              "      <td>21/02/2018 02:33:29</td>\n",
              "      <td>1827</td>\n",
              "      <td>2</td>\n",
              "      <td>0</td>\n",
              "      <td>0</td>\n",
              "      <td>0</td>\n",
              "      <td>0</td>\n",
              "      <td>0</td>\n",
              "      <td>...</td>\n",
              "      <td>20</td>\n",
              "      <td>0.0</td>\n",
              "      <td>0.0</td>\n",
              "      <td>0</td>\n",
              "      <td>0</td>\n",
              "      <td>0.0</td>\n",
              "      <td>0.0</td>\n",
              "      <td>0</td>\n",
              "      <td>0</td>\n",
              "      <td>DDOS attack-HOIC</td>\n",
              "    </tr>\n",
              "  </tbody>\n",
              "</table>\n",
              "<p>686012 rows × 80 columns</p>\n",
              "</div>\n",
              "    <div class=\"colab-df-buttons\">\n",
              "\n",
              "  <div class=\"colab-df-container\">\n",
              "    <button class=\"colab-df-convert\" onclick=\"convertToInteractive('df-9d4ce856-1e64-4252-acf5-5dfd9e68ee11')\"\n",
              "            title=\"Convert this dataframe to an interactive table.\"\n",
              "            style=\"display:none;\">\n",
              "\n",
              "  <svg xmlns=\"http://www.w3.org/2000/svg\" height=\"24px\" viewBox=\"0 -960 960 960\">\n",
              "    <path d=\"M120-120v-720h720v720H120Zm60-500h600v-160H180v160Zm220 220h160v-160H400v160Zm0 220h160v-160H400v160ZM180-400h160v-160H180v160Zm440 0h160v-160H620v160ZM180-180h160v-160H180v160Zm440 0h160v-160H620v160Z\"/>\n",
              "  </svg>\n",
              "    </button>\n",
              "\n",
              "  <style>\n",
              "    .colab-df-container {\n",
              "      display:flex;\n",
              "      gap: 12px;\n",
              "    }\n",
              "\n",
              "    .colab-df-convert {\n",
              "      background-color: #E8F0FE;\n",
              "      border: none;\n",
              "      border-radius: 50%;\n",
              "      cursor: pointer;\n",
              "      display: none;\n",
              "      fill: #1967D2;\n",
              "      height: 32px;\n",
              "      padding: 0 0 0 0;\n",
              "      width: 32px;\n",
              "    }\n",
              "\n",
              "    .colab-df-convert:hover {\n",
              "      background-color: #E2EBFA;\n",
              "      box-shadow: 0px 1px 2px rgba(60, 64, 67, 0.3), 0px 1px 3px 1px rgba(60, 64, 67, 0.15);\n",
              "      fill: #174EA6;\n",
              "    }\n",
              "\n",
              "    .colab-df-buttons div {\n",
              "      margin-bottom: 4px;\n",
              "    }\n",
              "\n",
              "    [theme=dark] .colab-df-convert {\n",
              "      background-color: #3B4455;\n",
              "      fill: #D2E3FC;\n",
              "    }\n",
              "\n",
              "    [theme=dark] .colab-df-convert:hover {\n",
              "      background-color: #434B5C;\n",
              "      box-shadow: 0px 1px 3px 1px rgba(0, 0, 0, 0.15);\n",
              "      filter: drop-shadow(0px 1px 2px rgba(0, 0, 0, 0.3));\n",
              "      fill: #FFFFFF;\n",
              "    }\n",
              "  </style>\n",
              "\n",
              "    <script>\n",
              "      const buttonEl =\n",
              "        document.querySelector('#df-9d4ce856-1e64-4252-acf5-5dfd9e68ee11 button.colab-df-convert');\n",
              "      buttonEl.style.display =\n",
              "        google.colab.kernel.accessAllowed ? 'block' : 'none';\n",
              "\n",
              "      async function convertToInteractive(key) {\n",
              "        const element = document.querySelector('#df-9d4ce856-1e64-4252-acf5-5dfd9e68ee11');\n",
              "        const dataTable =\n",
              "          await google.colab.kernel.invokeFunction('convertToInteractive',\n",
              "                                                    [key], {});\n",
              "        if (!dataTable) return;\n",
              "\n",
              "        const docLinkHtml = 'Like what you see? Visit the ' +\n",
              "          '<a target=\"_blank\" href=https://colab.research.google.com/notebooks/data_table.ipynb>data table notebook</a>'\n",
              "          + ' to learn more about interactive tables.';\n",
              "        element.innerHTML = '';\n",
              "        dataTable['output_type'] = 'display_data';\n",
              "        await google.colab.output.renderOutput(dataTable, element);\n",
              "        const docLink = document.createElement('div');\n",
              "        docLink.innerHTML = docLinkHtml;\n",
              "        element.appendChild(docLink);\n",
              "      }\n",
              "    </script>\n",
              "  </div>\n",
              "\n",
              "\n",
              "<div id=\"df-20a6163b-1519-4823-9587-58ac7394f38b\">\n",
              "  <button class=\"colab-df-quickchart\" onclick=\"quickchart('df-20a6163b-1519-4823-9587-58ac7394f38b')\"\n",
              "            title=\"Suggest charts\"\n",
              "            style=\"display:none;\">\n",
              "\n",
              "<svg xmlns=\"http://www.w3.org/2000/svg\" height=\"24px\"viewBox=\"0 0 24 24\"\n",
              "     width=\"24px\">\n",
              "    <g>\n",
              "        <path d=\"M19 3H5c-1.1 0-2 .9-2 2v14c0 1.1.9 2 2 2h14c1.1 0 2-.9 2-2V5c0-1.1-.9-2-2-2zM9 17H7v-7h2v7zm4 0h-2V7h2v10zm4 0h-2v-4h2v4z\"/>\n",
              "    </g>\n",
              "</svg>\n",
              "  </button>\n",
              "\n",
              "<style>\n",
              "  .colab-df-quickchart {\n",
              "      --bg-color: #E8F0FE;\n",
              "      --fill-color: #1967D2;\n",
              "      --hover-bg-color: #E2EBFA;\n",
              "      --hover-fill-color: #174EA6;\n",
              "      --disabled-fill-color: #AAA;\n",
              "      --disabled-bg-color: #DDD;\n",
              "  }\n",
              "\n",
              "  [theme=dark] .colab-df-quickchart {\n",
              "      --bg-color: #3B4455;\n",
              "      --fill-color: #D2E3FC;\n",
              "      --hover-bg-color: #434B5C;\n",
              "      --hover-fill-color: #FFFFFF;\n",
              "      --disabled-bg-color: #3B4455;\n",
              "      --disabled-fill-color: #666;\n",
              "  }\n",
              "\n",
              "  .colab-df-quickchart {\n",
              "    background-color: var(--bg-color);\n",
              "    border: none;\n",
              "    border-radius: 50%;\n",
              "    cursor: pointer;\n",
              "    display: none;\n",
              "    fill: var(--fill-color);\n",
              "    height: 32px;\n",
              "    padding: 0;\n",
              "    width: 32px;\n",
              "  }\n",
              "\n",
              "  .colab-df-quickchart:hover {\n",
              "    background-color: var(--hover-bg-color);\n",
              "    box-shadow: 0 1px 2px rgba(60, 64, 67, 0.3), 0 1px 3px 1px rgba(60, 64, 67, 0.15);\n",
              "    fill: var(--button-hover-fill-color);\n",
              "  }\n",
              "\n",
              "  .colab-df-quickchart-complete:disabled,\n",
              "  .colab-df-quickchart-complete:disabled:hover {\n",
              "    background-color: var(--disabled-bg-color);\n",
              "    fill: var(--disabled-fill-color);\n",
              "    box-shadow: none;\n",
              "  }\n",
              "\n",
              "  .colab-df-spinner {\n",
              "    border: 2px solid var(--fill-color);\n",
              "    border-color: transparent;\n",
              "    border-bottom-color: var(--fill-color);\n",
              "    animation:\n",
              "      spin 1s steps(1) infinite;\n",
              "  }\n",
              "\n",
              "  @keyframes spin {\n",
              "    0% {\n",
              "      border-color: transparent;\n",
              "      border-bottom-color: var(--fill-color);\n",
              "      border-left-color: var(--fill-color);\n",
              "    }\n",
              "    20% {\n",
              "      border-color: transparent;\n",
              "      border-left-color: var(--fill-color);\n",
              "      border-top-color: var(--fill-color);\n",
              "    }\n",
              "    30% {\n",
              "      border-color: transparent;\n",
              "      border-left-color: var(--fill-color);\n",
              "      border-top-color: var(--fill-color);\n",
              "      border-right-color: var(--fill-color);\n",
              "    }\n",
              "    40% {\n",
              "      border-color: transparent;\n",
              "      border-right-color: var(--fill-color);\n",
              "      border-top-color: var(--fill-color);\n",
              "    }\n",
              "    60% {\n",
              "      border-color: transparent;\n",
              "      border-right-color: var(--fill-color);\n",
              "    }\n",
              "    80% {\n",
              "      border-color: transparent;\n",
              "      border-right-color: var(--fill-color);\n",
              "      border-bottom-color: var(--fill-color);\n",
              "    }\n",
              "    90% {\n",
              "      border-color: transparent;\n",
              "      border-bottom-color: var(--fill-color);\n",
              "    }\n",
              "  }\n",
              "</style>\n",
              "\n",
              "  <script>\n",
              "    async function quickchart(key) {\n",
              "      const quickchartButtonEl =\n",
              "        document.querySelector('#' + key + ' button');\n",
              "      quickchartButtonEl.disabled = true;  // To prevent multiple clicks.\n",
              "      quickchartButtonEl.classList.add('colab-df-spinner');\n",
              "      try {\n",
              "        const charts = await google.colab.kernel.invokeFunction(\n",
              "            'suggestCharts', [key], {});\n",
              "      } catch (error) {\n",
              "        console.error('Error during call to suggestCharts:', error);\n",
              "      }\n",
              "      quickchartButtonEl.classList.remove('colab-df-spinner');\n",
              "      quickchartButtonEl.classList.add('colab-df-quickchart-complete');\n",
              "    }\n",
              "    (() => {\n",
              "      let quickchartButtonEl =\n",
              "        document.querySelector('#df-20a6163b-1519-4823-9587-58ac7394f38b button');\n",
              "      quickchartButtonEl.style.display =\n",
              "        google.colab.kernel.accessAllowed ? 'block' : 'none';\n",
              "    })();\n",
              "  </script>\n",
              "</div>\n",
              "    </div>\n",
              "  </div>\n"
            ]
          },
          "metadata": {},
          "execution_count": 5
        }
      ]
    },
    {
      "cell_type": "markdown",
      "source": [
        "Aikaleimat ovat siis tosiaan 12h kellolla, joten oikeat käytettävät aikaleimat ovat:\n",
        "\n",
        "DDOS-LOIC-UDP 10:09 - 10:45\n",
        "\n",
        "DDOS-HOIC 02:05 - 03:05, käytännössä 02:05 - 02:33, koska siihen datasetti päättyy.\n",
        "\n",
        "Lisäksi yllä olevasta nähdään, että HOIC käyttää TCP:tä: 'Protocol' sarakkeen numero 6 viittaa TCP:hen. Vastaavasti UDP:n numero on 17."
      ],
      "metadata": {
        "id": "7QbOkBd9gSDP"
      }
    },
    {
      "cell_type": "code",
      "source": [
        "my_colors = ['r', 'g', 'o']\n",
        "\n",
        "dataset.Label.value_counts().plot(kind='bar', title=\"Number of attacks\", rot=0, color=['C1', 'C0', 'C2'])"
      ],
      "metadata": {
        "colab": {
          "base_uri": "https://localhost:8080/",
          "height": 469
        },
        "id": "AYHWbRftvxMC",
        "outputId": "c233ca33-1d8a-4820-d744-7f289c0b73c7"
      },
      "execution_count": 5,
      "outputs": [
        {
          "output_type": "execute_result",
          "data": {
            "text/plain": [
              "<Axes: title={'center': 'Number of attacks'}>"
            ]
          },
          "metadata": {},
          "execution_count": 5
        },
        {
          "output_type": "display_data",
          "data": {
            "text/plain": [
              "<Figure size 640x480 with 1 Axes>"
            ],
            "image/png": "[encoded data removed]"
          },
          "metadata": {}
        }
      ]
    },
    {
      "cell_type": "markdown",
      "source": [
        "# Datan splittaus\n",
        "\n",
        "Splitataan data koulutus ja testisetteihin. Tarkoitus on kokeilla kahta eri mallia:\n",
        "\n",
        "1. LOIC hyökkäysten tunnistaminen\n",
        "2. LOIC & HOIC hyökkäysten tunnistaminen samalla mallilla\n"
      ],
      "metadata": {
        "id": "sGKtjWPAllBq"
      }
    },
    {
      "cell_type": "markdown",
      "source": [
        "## LOIC data\n",
        "\n",
        "\n",
        "Tehdään uusi datasetti, jossa on vain normaalia liikennettä ja LOIC liikennettä. Lisäksi muutetan label kentän arvot:\n",
        "\n",
        "* Normaali = 0\n",
        "* Haitallinen = 1\n",
        "\n",
        "Poistetaan timestamp sarake turhana, erotetaan taustatotuus erilliseksi matriisiksi ja muunnetaan sekä taustatotuus että data numpy arrayksi. Lopuksi jaetaan data koulutus- ja testidatoihin."
      ],
      "metadata": {
        "id": "tuXqjco9wOrP"
      }
    },
    {
      "cell_type": "code",
      "source": [
        "#print(dataset.shape)\n",
        "\n",
        "# Poistetaan HOIC liikenne datasta ja jätetään vain normaali & LOIC\n",
        "LOIC_df = dataset[dataset[\"Label\"].isin(['Benign','DDOS attack-LOIC-UDP'])].copy()\n",
        "\n",
        "#print(dataset.shape)\n",
        "\n",
        "# Muutetaan label kentän arvot numeerisiksi\n",
        "LOIC_df.replace(to_replace=\"Benign\", value=0, inplace=True)\n",
        "LOIC_df.replace(to_replace=\"DDOS attack-LOIC-UDP\", value=1, inplace=True)\n",
        "\n",
        "# Hävitetään timestamp\n",
        "LOIC_df.drop('Timestamp', axis=1, inplace=True)\n",
        "\n",
        "# Tehdään luokittain olevat kopiot\n",
        "clean = LOIC_df[LOIC_df.Label == 0]\n",
        "evil = LOIC_df[LOIC_df.Label == 1]\n",
        "\n",
        "# Poistetaan label ja tehdään siitä taustatotuus\n",
        "T_LOIC_df = np.array(LOIC_df.pop(\"Label\"))\n",
        "\n",
        "#print(LOIC_df.info())\n",
        "\n",
        "# Muutetaan dataframe numpy arrayksi\n",
        "X_LOIC_df = LOIC_df.to_numpy()\n",
        "\n",
        "#print(type(X_LOIC_df))\n",
        "#print(X_LOIC_df.shape)\n",
        "#print(type(T_LOIC_df))\n",
        "#print(T_LOIC_df.shape)\n",
        "\n",
        "# Jaetaan koulutus- ja testidataan (X) sekä vastaaviin taustatotuuksiin (T)\n",
        "X_LOIC_train, X_LOIC_test, T_LOIC_train, T_LOIC_test = train_test_split(X_LOIC_df, T_LOIC_df, test_size=0.2, random_state=42)\n",
        "\n",
        "print(X_LOIC_train.shape)\n",
        "print(X_LOIC_test.shape)\n",
        "print(T_LOIC_train.shape)\n",
        "print(T_LOIC_test.shape)"
      ],
      "metadata": {
        "id": "-sGubIRV0EQa",
        "colab": {
          "base_uri": "https://localhost:8080/"
        },
        "outputId": "51555179-1aff-42e7-92b7-8e41921aa82e"
      },
      "execution_count": 15,
      "outputs": [
        {
          "output_type": "stream",
          "name": "stdout",
          "text": [
            "(290050, 78)\n",
            "(72513, 78)\n",
            "(290050,)\n",
            "(72513,)\n"
          ]
        }
      ]
    },
    {
      "cell_type": "markdown",
      "source": [
        "## LOIC & HOIC data"
      ],
      "metadata": {
        "id": "xILica1twYRC"
      }
    },
    {
      "cell_type": "code",
      "source": [
        "COMBINED_df = dataset.copy()\n",
        "\n",
        "# Hävitetään timestamp\n",
        "COMBINED_df.drop('Timestamp', axis=1, inplace=True)\n",
        "\n",
        "# Muutetaan label kentän arvot numeerisiksi\n",
        "COMBINED_df.replace(to_replace=\"Benign\", value=0, inplace=True)\n",
        "COMBINED_df.replace(to_replace=\"DDOS attack-LOIC-UDP\", value=1, inplace=True)\n",
        "COMBINED_df.replace(to_replace=\"DDOS attack-HOIC\", value=1, inplace=True)\n",
        "\n",
        "#print(COMBINED_df['Label'].value_counts())\n",
        "\n",
        "# Tehdään luokittain olevat kopiot\n",
        "COMBINED_clean = COMBINED_df[COMBINED_df.Label == 0]\n",
        "COMBINED_evil = COMBINED_df[COMBINED_df.Label == 1]\n",
        "\n",
        "# Poistetaan label ja tehdään siitä taustatotuus\n",
        "T_COMBINED_df = np.array(COMBINED_df.pop(\"Label\"))\n",
        "\n",
        "print(T_COMBINED_df.shape)\n",
        "\n",
        "# Muutetaan dataframe numpy arrayksi\n",
        "X_COMBINED_df = COMBINED_df.to_numpy()\n",
        "\n",
        "# Jaetaan koulutus- ja testidataan (X) sekä vastaaviin taustatotuuksiin (T)\n",
        "X_COMBINED_train, X_COMBINED_test, T_COMBINED_train, T_COMBINED_test = train_test_split(X_COMBINED_df, T_COMBINED_df, test_size=0.2, random_state=42)\n",
        "\n",
        "print(X_COMBINED_train.shape)\n",
        "print(X_COMBINED_test.shape)\n",
        "print(T_COMBINED_train.shape)\n",
        "print(T_COMBINED_test.shape)"
      ],
      "metadata": {
        "colab": {
          "base_uri": "https://localhost:8080/"
        },
        "id": "Rf0D40sDwbp0",
        "outputId": "8c18621b-94b6-454d-abc6-2b88dca04e05"
      },
      "execution_count": 6,
      "outputs": [
        {
          "output_type": "stream",
          "name": "stdout",
          "text": [
            "(1048575,)\n",
            "(838860, 78)\n",
            "(209715, 78)\n",
            "(838860,)\n",
            "(209715,)\n"
          ]
        }
      ]
    },
    {
      "cell_type": "markdown",
      "source": [
        "# LOIC"
      ],
      "metadata": {
        "id": "RnbpMQjG4rbS"
      }
    },
    {
      "cell_type": "markdown",
      "source": [
        "## Normalisointi"
      ],
      "metadata": {
        "id": "Yxo8riaa7Lff"
      }
    },
    {
      "cell_type": "code",
      "source": [
        "scaler = preprocessing.MinMaxScaler()\n",
        "X_LOIC_train_norm = scaler.fit_transform(X_LOIC_train)\n",
        "X_LOIC_test_norm = scaler.transform(X_LOIC_test)\n",
        "\n",
        "print(X_LOIC_train_norm.shape)\n",
        "print(X_LOIC_test_norm.shape)"
      ],
      "metadata": {
        "id": "v0zN3HBpCi3O",
        "colab": {
          "base_uri": "https://localhost:8080/"
        },
        "outputId": "f234563a-d557-4b94-bd42-e4698414f239"
      },
      "execution_count": 16,
      "outputs": [
        {
          "output_type": "stream",
          "name": "stdout",
          "text": [
            "(290050, 78)\n",
            "(72513, 78)\n"
          ]
        }
      ]
    },
    {
      "cell_type": "markdown",
      "source": [
        "## PCA\n",
        "\n",
        "Kokeillaan saako jakoavaimella mitään aikaiseksi."
      ],
      "metadata": {
        "id": "FWrJxOMe9mzO"
      }
    },
    {
      "cell_type": "code",
      "source": [
        "# Kaksi pääkomponenttia selittää datan noin 90% ja loput ovat hyvin merkityksettömiä, joten n=2\n",
        "#pca = PCA(n_components=5)\n",
        "pca = PCA(n_components=2)\n",
        "X_LOIC_train_pca = pca.fit_transform(X_LOIC_train_norm)\n",
        "X_LOIC_test_pca = pca.transform(X_LOIC_test_norm)\n",
        "\n",
        "print('Singulaariarvot: '+ str(pca.singular_values_))\n",
        "print('Variance ratio: ' + str(pca.explained_variance_ratio_))\n",
        "\n",
        "plt.scatter(X_LOIC_train_pca[:,0],X_LOIC_train_pca[:,1])\n",
        "plt.show()"
      ],
      "metadata": {
        "colab": {
          "base_uri": "https://localhost:8080/",
          "height": 465
        },
        "id": "CSOIGnQT9p0k",
        "outputId": "f2b44c37-7e47-4553-abde-d9d5d6864e0b"
      },
      "execution_count": 17,
      "outputs": [
        {
          "output_type": "stream",
          "name": "stdout",
          "text": [
            "Singulaariarvot: [171.8747555  106.87099906]\n",
            "Variance ratio: [0.64627799 0.24987046]\n"
          ]
        },
        {
          "output_type": "display_data",
          "data": {
            "text/plain": [
              "<Figure size 640x480 with 1 Axes>"
            ],
            "image/png": "[encoded data removed]"
          },
          "metadata": {}
        }
      ]
    },
    {
      "cell_type": "markdown",
      "source": [
        "## CBLOF\n",
        "\n",
        "CBLOF (Cluster based outlier detection) näyttää toimivan kohtuullisesti."
      ],
      "metadata": {
        "id": "SdVAJuRZDaEc"
      }
    },
    {
      "cell_type": "code",
      "source": [
        "clf_name = 'CBLOF'\n",
        "clf = CBLOF()\n",
        "clf.fit(X_LOIC_train_pca)\n",
        "\n",
        "#Predict palauttaa arrayn, jossa 1=anomalia 0=normaalia\n",
        "outlier_labels_train = clf.predict(X_LOIC_train_pca)\n",
        "#Where palauttaa arrayn, jossa on anomalioiksi tunnistettujen indeksit\n",
        "anomalia_train = np.where(outlier_labels_train)\n",
        "\n",
        "#Testidatalla\n",
        "outlier_labels_test = clf.predict(X_LOIC_test_pca)\n",
        "anomalia_test = np.where(outlier_labels_test)\n",
        "\n",
        "#Anomalioiden/outliers pisteet koulutus- ja testidatalle\n",
        "T_train_scores = clf.decision_scores_\n",
        "T_test_scores = clf.decision_function(X_LOIC_test_pca)\n",
        "\n",
        "print(\"\\nLuokitteluraportti koulutusdatalla:\")\n",
        "print(classification_report(T_LOIC_train, outlier_labels_train, labels=[0, 1]))\n",
        "\n",
        "print(\"\\nLuokitteluraportti testidatalla:\")\n",
        "print(classification_report(T_LOIC_test, outlier_labels_test, labels=[0, 1]))\n",
        "print()\n",
        "print(\"\\nKoulutusdatalla:\")\n",
        "evaluate_print(clf_name, T_LOIC_train, T_train_scores)\n",
        "print(\"\\nTestidatalla:\")\n",
        "evaluate_print(clf_name, T_LOIC_test, T_test_scores)"
      ],
      "metadata": {
        "colab": {
          "base_uri": "https://localhost:8080/"
        },
        "id": "Yxa0UImzBr6S",
        "outputId": "fef72067-eecb-47c3-f2c4-634a8c8df2f3"
      },
      "execution_count": 14,
      "outputs": [
        {
          "output_type": "stream",
          "name": "stderr",
          "text": [
            "/usr/local/lib/python3.10/dist-packages/sklearn/cluster/_kmeans.py:870: FutureWarning: The default value of `n_init` will change from 10 to 'auto' in 1.4. Set the value of `n_init` explicitly to suppress the warning\n",
            "  warnings.warn(\n"
          ]
        },
        {
          "output_type": "stream",
          "name": "stdout",
          "text": [
            "\n",
            "Luokitteluraportti koulutusdatalla:\n",
            "              precision    recall  f1-score   support\n",
            "\n",
            "           0       1.00      0.90      0.95    288684\n",
            "           1       0.05      1.00      0.09      1366\n",
            "\n",
            "    accuracy                           0.90    290050\n",
            "   macro avg       0.52      0.95      0.52    290050\n",
            "weighted avg       1.00      0.90      0.95    290050\n",
            "\n",
            "\n",
            "Luokitteluraportti testidatalla:\n",
            "              precision    recall  f1-score   support\n",
            "\n",
            "           0       1.00      0.90      0.95     72149\n",
            "           1       0.05      1.00      0.10       364\n",
            "\n",
            "    accuracy                           0.90     72513\n",
            "   macro avg       0.52      0.95      0.52     72513\n",
            "weighted avg       1.00      0.90      0.95     72513\n",
            "\n",
            "\n",
            "\n",
            "Koulutusdatalla:\n",
            "CBLOF ROC:0.9996, precision @ rank n:0.8851\n",
            "\n",
            "Testidatalla:\n",
            "CBLOF ROC:0.9996, precision @ rank n:0.8874\n"
          ]
        }
      ]
    },
    {
      "cell_type": "markdown",
      "source": [
        "## ABOD\n",
        "\n",
        "ABODin tuloksella ei juuri juhlita. Optimoimalla voisi ehkä päästä parempaan tulokseen."
      ],
      "metadata": {
        "id": "ha84OlnxbSjY"
      }
    },
    {
      "cell_type": "code",
      "source": [
        "from pyod.models.abod import ABOD\n",
        "\n",
        "clf_name = 'ABOD'\n",
        "clf = ABOD(contamination=0.05, n_neighbors=5, method='fast')\n",
        "clf.fit(X_LOIC_train_pca)\n",
        "\n",
        "#Predict palauttaa arrayn, jossa 1=anomalia 0=normaalia\n",
        "outlier_labels_train = clf.predict(X_LOIC_train_pca)\n",
        "#Where palauttaa arrayn, jossa on anomalioiksi tunnistettujen indeksit\n",
        "anomalia_train = np.where(outlier_labels_train)\n",
        "\n",
        "#Testidatalla\n",
        "outlier_labels_test = clf.predict(X_LOIC_test_pca)\n",
        "anomalia_test = np.where(outlier_labels_test)\n",
        "\n",
        "#Anomalioiden/outliers pisteet koulutus- ja testidatalle\n",
        "T_train_scores = clf.decision_scores_\n",
        "T_test_scores = clf.decision_function(X_LOIC_test_pca)\n",
        "\n",
        "print(\"\\nLuokitteluraportti koulutusdatalla:\")\n",
        "print(classification_report(T_LOIC_train, outlier_labels_train, labels=[0, 1]))\n",
        "\n",
        "print(\"\\nLuokitteluraportti testidatalla:\")\n",
        "print(classification_report(T_LOIC_test, outlier_labels_test, labels=[0, 1]))\n",
        "print()\n",
        "print(\"\\nKoulutusdatalla:\")\n",
        "evaluate_print(clf_name, T_LOIC_train, T_train_scores)\n",
        "print(\"\\nTestidatalla:\")\n",
        "evaluate_print(clf_name, T_LOIC_test, T_test_scores)"
      ],
      "metadata": {
        "colab": {
          "base_uri": "https://localhost:8080/"
        },
        "id": "WDfd8Xbjbwvy",
        "outputId": "3e5b51bc-f94c-4b8b-f269-43c595dfc51b"
      },
      "execution_count": 18,
      "outputs": [
        {
          "output_type": "stream",
          "name": "stderr",
          "text": [
            "/usr/local/lib/python3.10/dist-packages/numpy/core/fromnumeric.py:3715: RuntimeWarning: Degrees of freedom <= 0 for slice\n",
            "  return _methods._var(a, axis=axis, dtype=dtype, out=out, ddof=ddof,\n",
            "/usr/local/lib/python3.10/dist-packages/numpy/core/_methods.py:223: RuntimeWarning: invalid value encountered in divide\n",
            "  arrmean = um.true_divide(arrmean, div, out=arrmean, casting='unsafe',\n",
            "/usr/local/lib/python3.10/dist-packages/numpy/core/_methods.py:257: RuntimeWarning: invalid value encountered in double_scalars\n",
            "  ret = ret.dtype.type(ret / rcount)\n"
          ]
        },
        {
          "output_type": "stream",
          "name": "stdout",
          "text": [
            "\n",
            "Luokitteluraportti koulutusdatalla:\n",
            "              precision    recall  f1-score   support\n",
            "\n",
            "           0       1.00      0.95      0.97    288684\n",
            "           1       0.01      0.10      0.02      1366\n",
            "\n",
            "    accuracy                           0.95    290050\n",
            "   macro avg       0.50      0.53      0.50    290050\n",
            "weighted avg       0.99      0.95      0.97    290050\n",
            "\n",
            "\n",
            "Luokitteluraportti testidatalla:\n",
            "              precision    recall  f1-score   support\n",
            "\n",
            "           0       1.00      0.95      0.97     72149\n",
            "           1       0.01      0.08      0.01       364\n",
            "\n",
            "    accuracy                           0.95     72513\n",
            "   macro avg       0.50      0.51      0.49     72513\n",
            "weighted avg       0.99      0.95      0.97     72513\n",
            "\n",
            "\n",
            "\n",
            "Koulutusdatalla:\n",
            "ABOD ROC:0.3106, precision @ rank n:0.0666\n",
            "\n",
            "Testidatalla:\n",
            "ABOD ROC:0.2842, precision @ rank n:0.0659\n"
          ]
        }
      ]
    },
    {
      "cell_type": "markdown",
      "source": [
        "## Autoencoder\n",
        "\n",
        "Neuroverkkojen hyödyntämiseksi poikkeamien tunnistamisessa pitää Googlen mukaan käyttää autoenkoodereita, joten sitä pitää yrittää.\n",
        "\n",
        "Koulutusdatana käytetään täysin puhdasta dataa ilman poikkeamia ja tavoitteena on havaita poikkeamat rekonstruktiovirheen perusteella. Puhtaalla datalla virheen pitäisi olla pieni ja poikkeavalla datalla suuri, joten poikkeamat pitäisi olla löydettävissä raja-arvon perusteella."
      ],
      "metadata": {
        "id": "G_BKfhQPyU4_"
      }
    },
    {
      "cell_type": "markdown",
      "source": [
        "Dataa on käsitelty jo aikaisemmin, mutta koska autoenkooderi tarvitsee täysin puhdasta dataa, niin käsittelyä joudutaan tekemään tässä yhteydessä uusiksi."
      ],
      "metadata": {
        "id": "lswQ3oajB9xI"
      }
    },
    {
      "cell_type": "code",
      "source": [
        "# Koulutusdatana käytetään pelkkää normaalidataa ilman anomalioita\n",
        "print(f\"\"\"Datasetit:\n",
        "    clean (rows, cols) = {clean.shape}\n",
        "    evil (rows, cols) = {evil.shape}\"\"\")\n",
        "\n",
        "# Sekoitetaan koulutusdata\n",
        "clean = clean.sample(frac=1).reset_index(drop=True)\n",
        "\n",
        "# Koulutussetti ilman pahuutta\n",
        "X_train = clean.iloc[:300000]\n",
        "T_train = X_train.pop('Label')\n",
        "\n",
        "# Testisetti, jossa loput puhtaat ja pahuus\n",
        "X_test = clean[300000:].copy()\n",
        "# Täysin puhdas testisetti\n",
        "X_clean_test = X_test.drop(labels='Label', axis=1).copy()\n",
        "# Yhdistetään puhdas testisetti ja pahuus lopulliseksi testisetiksi\n",
        "X_test = pd.concat([X_test, evil])\n",
        "X_test = X_test.sample(frac=1)\n",
        "T_test = X_test.pop('Label')\n",
        "\n",
        "# Pelkkää pahuutta sisältävä testisetti\n",
        "X_evil_test = evil.drop(labels='Label', axis=1).copy()\n",
        "\n",
        "#print(T_train.value_counts())\n",
        "#print(T_test.value_counts())"
      ],
      "metadata": {
        "colab": {
          "base_uri": "https://localhost:8080/"
        },
        "id": "sDMZ5LFZBPI_",
        "outputId": "b064bd83-4429-46ff-d2b5-0b6148b4e35f"
      },
      "execution_count": 19,
      "outputs": [
        {
          "output_type": "stream",
          "name": "stdout",
          "text": [
            "Datasetit:\n",
            "    clean (rows, cols) = (360833, 79)\n",
            "    evil (rows, cols) = (1730, 79)\n"
          ]
        }
      ]
    },
    {
      "cell_type": "markdown",
      "source": [
        "Data jaetaan kolmeen osaan: koulutus, validointi ja testi. Koulutus ja validointi ovat täysin puhtaita ja testidata sisältää kaikki poikkeamat (eli tässä tapauksessa LOIC liikenteen)."
      ],
      "metadata": {
        "id": "CxD8EfP4CUvJ"
      }
    },
    {
      "cell_type": "code",
      "source": [
        "# Splitataan puhdas koulutusdata validointiin ja koulutusdataan sekä labeleihin\n",
        "X_train, X_validate, T_train, T_validate = train_test_split(X_train, T_train,\n",
        "                                                            test_size=0.2,\n",
        "                                                            random_state=42)\n",
        "\n",
        "# Muutetaan dataframet -> numpy array\n",
        "X_train = X_train.values\n",
        "X_validate = X_validate.values\n",
        "X_test = X_test.values\n",
        "T_train = T_train.values\n",
        "T_validate = T_validate.values\n",
        "T_test = T_test.values\n",
        "X_evil_test = X_evil_test.values\n",
        "X_clean_test = X_clean_test.values"
      ],
      "metadata": {
        "id": "99dg7Vur5tFt"
      },
      "execution_count": 20,
      "outputs": []
    },
    {
      "cell_type": "markdown",
      "source": [
        "Erilliset puhdas ja paha testisetti ovat loppujen lopuksi aika turhia, mutta testaillessa ja ongelmia selvittäessä niille oli käyttöä."
      ],
      "metadata": {
        "id": "oRVjXJQ3CoZr"
      }
    },
    {
      "cell_type": "code",
      "source": [
        "print(f\"\"\"Datasettien muodot:\n",
        "    Koulutus (rows, cols) = {X_train.shape}\n",
        "    Validointi (rows, cols) = {X_validate.shape}\n",
        "    Testi (rows, cols) = {X_test.shape}\n",
        "    Koulutuslabelit (rows, cols) = {T_train.shape}\n",
        "    Validointilabelit (rows, cols) = {T_validate.shape}\n",
        "    Testilabelit (rows, cols) = {T_test.shape}\n",
        "    Testi pelkällä pahuudella (rows, cols) = {X_evil_test.shape}\n",
        "    Testi ilman pahuutta (rows, cols) = {X_clean_test.shape}  \"\"\")"
      ],
      "metadata": {
        "colab": {
          "base_uri": "https://localhost:8080/"
        },
        "id": "QYIQ-7NMKGZC",
        "outputId": "4289703d-64c9-47dd-e305-7276b51edeaf"
      },
      "execution_count": 21,
      "outputs": [
        {
          "output_type": "stream",
          "name": "stdout",
          "text": [
            "Datasettien muodot:\n",
            "    Koulutus (rows, cols) = (240000, 78)\n",
            "    Validointi (rows, cols) = (60000, 78)\n",
            "    Testi (rows, cols) = (62563, 78)\n",
            "    Koulutuslabelit (rows, cols) = (240000,)\n",
            "    Validointilabelit (rows, cols) = (60000,)\n",
            "    Testilabelit (rows, cols) = (62563,)\n",
            "    Testi pelkällä pahuudella (rows, cols) = (1730, 78)\n",
            "    Testi ilman pahuutta (rows, cols) = (60833, 78)  \n"
          ]
        }
      ]
    },
    {
      "cell_type": "markdown",
      "source": [
        "### Normalisointi\n",
        "\n",
        "Normalisoidaan pilkottu data."
      ],
      "metadata": {
        "id": "29Lmy9Wr4UX7"
      }
    },
    {
      "cell_type": "code",
      "source": [
        "scaler = preprocessing.MinMaxScaler()\n",
        "X_train_norm = scaler.fit_transform(X_train)\n",
        "X_validate_norm = scaler.transform(X_validate)\n",
        "X_test_norm = scaler.transform(X_test)\n",
        "X_evil_test_norm = scaler.transform(X_evil_test)\n",
        "X_clean_test_norm = scaler.transform(X_clean_test)"
      ],
      "metadata": {
        "id": "t2gll0bH4XU_"
      },
      "execution_count": 22,
      "outputs": []
    },
    {
      "cell_type": "markdown",
      "source": [
        "### Malli\n",
        "\n",
        "Luodaan autoenkooderin malli. Tämä on tarpeettoman raskas ja hidas, mutta optimointiin ei ollut tässä yhteydessä aikaa. Todennäköisesti neuronien määrää voisi ainakin supistaa ja eräkokoa (BATCH) suurentaa.\n",
        "\n",
        "Activation funktio, optimizer ja loss on valittu ihan vain Internetistä löytyneiden esimerkkien perusteella ilman tarkempaa pohdintaa."
      ],
      "metadata": {
        "id": "FbQ6JSnm43Zl"
      }
    },
    {
      "cell_type": "code",
      "source": [
        "DIMENSION = X_train_norm.shape[1]\n",
        "BATCH = 16\n",
        "EPOCHS = 10\n",
        "ACT = 'relu'\n",
        "\n",
        "class AutoEncoder(Model):\n",
        "  \"\"\"\n",
        "  Parameters\n",
        "  ----------\n",
        "  output_units: int\n",
        "    Number of output units\n",
        "\n",
        "  code_size: int\n",
        "    Number of units in bottle neck\n",
        "  \"\"\"\n",
        "\n",
        "  def __init__(self, output_units, code_size=8):\n",
        "    super().__init__()\n",
        "    self.encoder = Sequential([\n",
        "      Dense(DIMENSION, activation=ACT, input_shape=(DIMENSION, )),\n",
        "      Dense(64, activation=ACT),\n",
        "      Dense(32, activation=ACT),\n",
        "      Dense(16, activation=ACT),\n",
        "    ])\n",
        "    self.decoder = Sequential([\n",
        "      Dense(16, activation=ACT),\n",
        "      Dense(32, activation=ACT),\n",
        "      Dense(64, activation=ACT),\n",
        "      Dense(output_units, activation='sigmoid')\n",
        "    ])\n",
        "\n",
        "  def call(self, inputs):\n",
        "    encoded = self.encoder(inputs)\n",
        "    decoded = self.decoder(encoded)\n",
        "    return decoded\n",
        "\n",
        "autoencoder = AutoEncoder(output_units=X_train_norm.shape[1])\n",
        "autoencoder.compile(loss='mse', optimizer='adam', metrics=[\"acc\"])"
      ],
      "metadata": {
        "id": "ho_D3TX-47j_"
      },
      "execution_count": 23,
      "outputs": []
    },
    {
      "cell_type": "code",
      "source": [
        "history = autoencoder.fit(X_train_norm, X_train_norm,\n",
        "                          epochs = EPOCHS,\n",
        "                          batch_size = BATCH,\n",
        "                          validation_data=(X_validate_norm, X_validate_norm))"
      ],
      "metadata": {
        "colab": {
          "base_uri": "https://localhost:8080/"
        },
        "id": "1QPniZ31H1BS",
        "outputId": "c8ab409a-9dab-4c9a-821a-bb68fc6b3cec"
      },
      "execution_count": 24,
      "outputs": [
        {
          "output_type": "stream",
          "name": "stdout",
          "text": [
            "Epoch 1/10\n",
            "15000/15000 [==============================] - 58s 4ms/step - loss: 6.4509e-04 - acc: 0.0712 - val_loss: 6.0980e-05 - val_acc: 0.0639\n",
            "Epoch 2/10\n",
            "15000/15000 [==============================] - 57s 4ms/step - loss: 8.5625e-05 - acc: 0.0910 - val_loss: 6.0199e-05 - val_acc: 0.0058\n",
            "Epoch 3/10\n",
            "15000/15000 [==============================] - 56s 4ms/step - loss: 6.6323e-05 - acc: 0.1061 - val_loss: 4.6735e-05 - val_acc: 0.0364\n",
            "Epoch 4/10\n",
            "15000/15000 [==============================] - 55s 4ms/step - loss: 6.6974e-05 - acc: 0.0379 - val_loss: 5.8383e-05 - val_acc: 0.0058\n",
            "Epoch 5/10\n",
            "15000/15000 [==============================] - 51s 3ms/step - loss: 5.9004e-05 - acc: 0.0645 - val_loss: 5.5737e-05 - val_acc: 0.1375\n",
            "Epoch 6/10\n",
            "15000/15000 [==============================] - 51s 3ms/step - loss: 5.5407e-05 - acc: 0.3287 - val_loss: 5.5617e-05 - val_acc: 0.5091\n",
            "Epoch 7/10\n",
            "15000/15000 [==============================] - 52s 3ms/step - loss: 5.1162e-05 - acc: 0.4796 - val_loss: 6.0140e-05 - val_acc: 0.5644\n",
            "Epoch 8/10\n",
            "15000/15000 [==============================] - 56s 4ms/step - loss: 5.2388e-05 - acc: 0.3975 - val_loss: 6.7607e-05 - val_acc: 0.3660\n",
            "Epoch 9/10\n",
            "15000/15000 [==============================] - 50s 3ms/step - loss: 5.1772e-05 - acc: 0.2904 - val_loss: 6.3199e-05 - val_acc: 0.1939\n",
            "Epoch 10/10\n",
            "15000/15000 [==============================] - 50s 3ms/step - loss: 4.6678e-05 - acc: 0.3734 - val_loss: 6.1991e-05 - val_acc: 0.1977\n"
          ]
        }
      ]
    },
    {
      "cell_type": "markdown",
      "source": [
        "### Piirretään historia\n",
        "\n",
        "Sekä koulutus- että validointihäviö asettuvat samalle matalalle tasolle jo muutaman kierroksen jälkeen. Epocheja on siis vähintäänkin tarpeeksi."
      ],
      "metadata": {
        "id": "uiGUUDZyCBrN"
      }
    },
    {
      "cell_type": "code",
      "source": [
        "plt.figure(figsize=(12, 8))\n",
        "plt.plot(history.history[\"loss\"], label=\"Training Loss\");\n",
        "plt.plot(history.history[\"val_loss\"], label=\"Validation Loss\");\n",
        "plt.xlabel('Epochs')\n",
        "plt.ylabel('Loss')\n",
        "plt.legend();"
      ],
      "metadata": {
        "colab": {
          "base_uri": "https://localhost:8080/",
          "height": 696
        },
        "id": "PbfiO5YyJX9z",
        "outputId": "cfca99d1-603d-40a1-efcf-12bb73795043"
      },
      "execution_count": 25,
      "outputs": [
        {
          "output_type": "display_data",
          "data": {
            "text/plain": [
              "<Figure size 1200x800 with 1 Axes>"
            ],
            "image/png": "[encoded data removed]"
          },
          "metadata": {}
        }
      ]
    },
    {
      "cell_type": "markdown",
      "source": [
        "### Threshold\n",
        "\n",
        "Edellisestä graafistakin on nähtävissä, että raja-arvo (threshold) asettuu todella matalalle. Lasketaan kuitenkin sille tarkka-arvo ajamalla koulutusdata mallin läpi ja laskemalla aritmeettinen keskiarvo palautetuille häviöille ja lisäämällä siihen häviöiden keskihajonta.\n",
        "\n",
        "Arvot, jotka ovat pienempiä kuin raja-arvo, pitäisi olla normaaleita ja suurempien arvojen pitäisi olla poikkeamia."
      ],
      "metadata": {
        "id": "BL_92lP-G_Gz"
      }
    },
    {
      "cell_type": "code",
      "source": [
        "reconstructions = autoencoder.predict(X_train_norm)\n",
        "train_loss = tf.keras.losses.mse(reconstructions, X_train_norm)\n",
        "threshold = np.mean(train_loss) + np.std(train_loss)\n",
        "print(\"Threshold: \", threshold)"
      ],
      "metadata": {
        "colab": {
          "base_uri": "https://localhost:8080/"
        },
        "id": "TPX_Y2tHgxkj",
        "outputId": "90b0c6ec-7933-436f-cdc2-4fa75f671943"
      },
      "execution_count": 26,
      "outputs": [
        {
          "output_type": "stream",
          "name": "stdout",
          "text": [
            "7500/7500 [==============================] - 14s 2ms/step\n",
            "Threshold:  0.0011491698514888061\n"
          ]
        }
      ]
    },
    {
      "cell_type": "markdown",
      "source": [
        "### Kuvien piirtelyä datasettien perusteella\n",
        "\n",
        "Piirretään histogrammit häviöistä koulutussetillä, testisetillä (pahuus & normaalit sekaisin), puhtaalla testisetillä ja pelkkää pahuutta sisältävällä testisetillä.\n",
        "\n",
        "Kuvien perusteella voidaan nähdä, että pahalla datalla (eli poikkeamilla) on selkeästi suuremmat häviöt, joten niiden pitäisi mennä kirkkaasti raja-arvon yli ja jäädä mallin haaviin."
      ],
      "metadata": {
        "id": "sksNEYkWFK2K"
      }
    },
    {
      "cell_type": "code",
      "source": [
        "fig, ax = plt.subplots(2, 2, figsize=(12,8))\n",
        "\n",
        "reconstructions = autoencoder.predict(X_train_norm)\n",
        "train_loss_training = tf.keras.losses.mse(reconstructions, X_train_norm)\n",
        "threshold = np.mean(train_loss_training) + np.std(train_loss)\n",
        "#print(\"Threshold: \", threshold)\n",
        "ax[0, 0].hist(train_loss_training[None,:],range=[0, 0.025])\n",
        "ax[0, 0].set_xlabel('Train loss, koulutusdata')\n",
        "ax[0, 0].set_ylabel('KPL')\n",
        "\n",
        "reconstructions = autoencoder.predict(X_test_norm)\n",
        "train_loss_test = tf.keras.losses.mse(reconstructions, X_test_norm)\n",
        "ax[0,1].hist(train_loss_test[None,:])\n",
        "ax[0,1].set_xlabel('Train loss, testidata')\n",
        "ax[0,1].set_ylabel('KPL')\n",
        "\n",
        "reconstructions = autoencoder.predict(X_clean_test_norm)\n",
        "train_loss_clean = tf.keras.losses.mse(reconstructions, X_clean_test_norm)\n",
        "ax[1,0].hist(train_loss_clean[None,:], range=[0, 0.15])\n",
        "ax[1,0].set_xlabel('Train loss, puhdas testidata')\n",
        "ax[1,0].set_ylabel('KPL')\n",
        "\n",
        "reconstructions = autoencoder.predict(X_evil_test_norm)\n",
        "train_loss_evil = tf.keras.losses.mse(reconstructions, X_evil_test_norm)\n",
        "ax[1,1].hist(train_loss_evil[None,:])\n",
        "ax[1,1].set_xlabel('Train loss, paha testidata')\n",
        "ax[1,1].set_ylabel('KPL')\n",
        "\n",
        "plt.show()"
      ],
      "metadata": {
        "colab": {
          "base_uri": "https://localhost:8080/",
          "height": 768
        },
        "id": "Shjjs0y3HCEm",
        "outputId": "d34b63af-e704-4d84-8fab-d0121deb3da6"
      },
      "execution_count": 27,
      "outputs": [
        {
          "output_type": "stream",
          "name": "stdout",
          "text": [
            "7500/7500 [==============================] - 13s 2ms/step\n",
            "1956/1956 [==============================] - 9s 5ms/step\n",
            "1902/1902 [==============================] - 3s 2ms/step\n",
            "55/55 [==============================] - 0s 2ms/step\n"
          ]
        },
        {
          "output_type": "display_data",
          "data": {
            "text/plain": [
              "<Figure size 1200x800 with 4 Axes>"
            ],
            "image/png": "[encoded data removed]"
          },
          "metadata": {}
        }
      ]
    },
    {
      "cell_type": "markdown",
      "source": [
        "### Tulokset\n",
        "\n",
        "Testidatalla laskettujen metriikoiden mukaan malli toimii LOIC-liikenteen havainnointiin oikein hyvin."
      ],
      "metadata": {
        "id": "AsIkOg_eFSxI"
      }
    },
    {
      "cell_type": "code",
      "source": [
        "def get_predictions(model, x_test_scaled, threshold):\n",
        "  predictions = model.predict(x_test_scaled)\n",
        "  errors = tf.keras.losses.mse(predictions, x_test_scaled)\n",
        "  # 1 = poikkeama, 0 = normaali\n",
        "  anomaly_mask = pd.Series(errors) > threshold\n",
        "  preds = anomaly_mask.map(lambda x: 1.0 if x == True else 0.0)\n",
        "  return preds\n",
        "\n",
        "preds = get_predictions(autoencoder, X_test_norm, threshold)\n",
        "print(accuracy_score(preds, T_test))\n",
        "print(precision_score(preds, T_test))\n",
        "\n",
        "print(\"\\nLuokitteluraportti testidatalla:\")\n",
        "print(classification_report(T_test, preds, labels=[0, 1]))"
      ],
      "metadata": {
        "colab": {
          "base_uri": "https://localhost:8080/"
        },
        "id": "EGOLMVbRvWFY",
        "outputId": "9d1f645e-53fd-4a20-8345-4996d8d3e8dc"
      },
      "execution_count": 28,
      "outputs": [
        {
          "output_type": "stream",
          "name": "stdout",
          "text": [
            "1956/1956 [==============================] - 3s 2ms/step\n",
            "0.9976983200933459\n",
            "1.0\n",
            "\n",
            "Luokitteluraportti testidatalla:\n",
            "              precision    recall  f1-score   support\n",
            "\n",
            "           0       1.00      1.00      1.00     60833\n",
            "           1       0.92      1.00      0.96      1730\n",
            "\n",
            "    accuracy                           1.00     62563\n",
            "   macro avg       0.96      1.00      0.98     62563\n",
            "weighted avg       1.00      1.00      1.00     62563\n",
            "\n"
          ]
        }
      ]
    },
    {
      "cell_type": "markdown",
      "source": [
        "# Yhdistetty datasetti (LOIC & HOIC)\n",
        "\n",
        "Yllä testattiin pelkkien UDP pohjaisten poikkeamien havaitsemista eri tekniikoilla. Kokeillaan saadaanko molemmat hyökkäystyypit kiinni samoilla mekanismeilla erottelematta niitä sen kummemmin."
      ],
      "metadata": {
        "id": "EKKgYyha1Iqy"
      }
    },
    {
      "cell_type": "markdown",
      "source": [
        "## Normalisointi"
      ],
      "metadata": {
        "id": "aKpDByha1dJQ"
      }
    },
    {
      "cell_type": "code",
      "source": [
        "scaler = preprocessing.MinMaxScaler()\n",
        "X_COMBINED_train_norm = scaler.fit_transform(X_COMBINED_train)\n",
        "X_COMBINED_test_norm = scaler.transform(X_COMBINED_test)\n",
        "\n",
        "print(X_COMBINED_train_norm.shape)\n",
        "print(X_COMBINED_test_norm.shape)"
      ],
      "metadata": {
        "colab": {
          "base_uri": "https://localhost:8080/"
        },
        "id": "SdZ-O2xC13l9",
        "outputId": "ce7e4985-1589-4104-d2b5-4f716ed2aa79"
      },
      "execution_count": 7,
      "outputs": [
        {
          "output_type": "stream",
          "name": "stdout",
          "text": [
            "(838860, 78)\n",
            "(209715, 78)\n"
          ]
        }
      ]
    },
    {
      "cell_type": "markdown",
      "source": [
        "## PCA\n",
        "\n",
        "PCA antaa erilaisia tuloksia, mutta toimii edelleen oikein hyvin ja kaksi pääkomponenttia selittää valtaosan datasta."
      ],
      "metadata": {
        "id": "gXSiFzJy1fxP"
      }
    },
    {
      "cell_type": "code",
      "source": [
        "# Kaksi pääkomponenttia selittää datan noin 90%\n",
        "# ja loput ovat hyvin merkityksettömiä, joten n=2\n",
        "#pca = PCA(n_components=5)\n",
        "pca = PCA(n_components=2)\n",
        "X_COMBINED_train_pca = pca.fit_transform(X_COMBINED_train_norm)\n",
        "X_COMBINED_test_pca = pca.transform(X_COMBINED_test_norm)\n",
        "\n",
        "print('Singulaariarvot: '+ str(pca.singular_values_))\n",
        "print('Variance ratio: ' + str(pca.explained_variance_ratio_))\n",
        "\n",
        "plt.scatter(X_COMBINED_train_pca[:,0],X_COMBINED_train_pca[:,1])\n",
        "plt.show()"
      ],
      "metadata": {
        "colab": {
          "base_uri": "https://localhost:8080/",
          "height": 465
        },
        "id": "G8yjiimZ2GY8",
        "outputId": "b8a43086-5598-4813-e46c-a7db94841fea"
      },
      "execution_count": 8,
      "outputs": [
        {
          "output_type": "stream",
          "name": "stdout",
          "text": [
            "Singulaariarvot: [1217.12649148  480.44330007]\n",
            "Variance ratio: [0.850648   0.13254481]\n"
          ]
        },
        {
          "output_type": "display_data",
          "data": {
            "text/plain": [
              "<Figure size 640x480 with 1 Axes>"
            ],
            "image/png": "[encoded data removed]"
          },
          "metadata": {}
        }
      ]
    },
    {
      "cell_type": "markdown",
      "source": [
        "## CBLOF\n",
        "\n",
        "CBLOF ei näytä toimivan molemmat hyökkäystyypit sisältävälle datasetille kovin vahvasti."
      ],
      "metadata": {
        "id": "HkeMm_RA1jw7"
      }
    },
    {
      "cell_type": "code",
      "source": [
        "clf_name = 'CBLOF'\n",
        "clf = CBLOF()\n",
        "clf.fit(X_COMBINED_train_pca)\n",
        "\n",
        "#Predict palauttaa arrayn, jossa 1=anomalia 0=normaalia\n",
        "outlier_labels_train = clf.predict(X_COMBINED_train_pca)\n",
        "#Where palauttaa arrayn, jossa on anomalioiksi tunnistettujen indeksit\n",
        "anomalia_train = np.where(outlier_labels_train)\n",
        "\n",
        "#Testidatalla\n",
        "outlier_labels_test = clf.predict(X_COMBINED_test_pca)\n",
        "anomalia_test = np.where(outlier_labels_test)\n",
        "\n",
        "#Anomalioiden/outliers pisteet koulutus- ja testidatalle\n",
        "T_train_scores = clf.decision_scores_\n",
        "T_test_scores = clf.decision_function(X_COMBINED_test_pca)\n",
        "\n",
        "print(\"\\nLuokitteluraportti koulutusdatalla:\")\n",
        "print(classification_report(T_COMBINED_train, outlier_labels_train, labels=[0, 1]))\n",
        "\n",
        "print(\"\\nLuokitteluraportti testidatalla:\")\n",
        "print(classification_report(T_COMBINED_test, outlier_labels_test, labels=[0, 1]))\n",
        "print()\n",
        "print(\"\\nKoulutusdatalla:\")\n",
        "evaluate_print(clf_name, T_COMBINED_train, T_train_scores)\n",
        "print(\"\\nTestidatalla:\")\n",
        "evaluate_print(clf_name, T_COMBINED_test, T_test_scores)"
      ],
      "metadata": {
        "colab": {
          "base_uri": "https://localhost:8080/"
        },
        "id": "ivId6q7e3OHX",
        "outputId": "14c4dce5-ad37-4bd5-d2a2-98b3f7c58049"
      },
      "execution_count": 9,
      "outputs": [
        {
          "output_type": "stream",
          "name": "stderr",
          "text": [
            "/usr/local/lib/python3.10/dist-packages/sklearn/cluster/_kmeans.py:870: FutureWarning: The default value of `n_init` will change from 10 to 'auto' in 1.4. Set the value of `n_init` explicitly to suppress the warning\n",
            "  warnings.warn(\n"
          ]
        },
        {
          "output_type": "stream",
          "name": "stdout",
          "text": [
            "\n",
            "Luokitteluraportti koulutusdatalla:\n",
            "              precision    recall  f1-score   support\n",
            "\n",
            "           0       0.31      0.81      0.45    288750\n",
            "           1       0.34      0.05      0.09    550110\n",
            "\n",
            "    accuracy                           0.31    838860\n",
            "   macro avg       0.33      0.43      0.27    838860\n",
            "weighted avg       0.33      0.31      0.21    838860\n",
            "\n",
            "\n",
            "Luokitteluraportti testidatalla:\n",
            "              precision    recall  f1-score   support\n",
            "\n",
            "           0       0.31      0.81      0.45     72083\n",
            "           1       0.34      0.05      0.09    137632\n",
            "\n",
            "    accuracy                           0.31    209715\n",
            "   macro avg       0.33      0.43      0.27    209715\n",
            "weighted avg       0.33      0.31      0.21    209715\n",
            "\n",
            "\n",
            "\n",
            "Koulutusdatalla:\n",
            "CBLOF ROC:0.0944, precision @ rank n:0.4751\n",
            "\n",
            "Testidatalla:\n",
            "CBLOF ROC:0.0945, precision @ rank n:0.4763\n"
          ]
        }
      ]
    },
    {
      "cell_type": "markdown",
      "source": [
        "## Autoenkooderi\n",
        "\n",
        "Autoenkooderi on käytännössä vain kopioitu yltä, jopa muuttujat pysyvät samoina (siksi niiden nollaus alussa). Neuroverkon neuronien määrää on kuitenkin pienennetty ja eräkokoa kasvatettu, että tämä menisi nopeammin läpi."
      ],
      "metadata": {
        "id": "c_Xadv-T1ZhW"
      }
    },
    {
      "cell_type": "code",
      "source": [
        "X_train = None\n",
        "T_train = None\n",
        "X_test = None\n",
        "T_test = None\n",
        "X_clean_test = None\n",
        "X_evil_test = None\n",
        "\n",
        "# Koulutusdatana käytetään pelkkää normaalidataa ilman anomalioita\n",
        "print(f\"\"\"Datasetit:\n",
        "    clean (rows, cols) = {COMBINED_clean.shape}\n",
        "    evil (rows, cols) = {COMBINED_evil.shape}\"\"\")\n",
        "\n",
        "# Sekoitetaan koulutusdata\n",
        "COMBINED_clean = COMBINED_clean.sample(frac=1).reset_index(drop=True)\n",
        "\n",
        "# Koulutussetti ilman pahuutta\n",
        "X_train = COMBINED_clean.iloc[:300000]\n",
        "T_train = X_train.pop('Label')\n",
        "\n",
        "# Testisetti, jossa loput puhtaat ja pahuus\n",
        "X_test = COMBINED_clean[300000:].copy()\n",
        "# Täysin puhdas testisetti\n",
        "X_clean_test = X_test.drop(labels='Label', axis=1).copy()\n",
        "# Yhdistetään puhdas testisetti ja pahuus lopulliseksi testisetiksi\n",
        "X_test = pd.concat([X_test, COMBINED_evil])\n",
        "X_test = X_test.sample(frac=1)\n",
        "T_test = X_test.pop('Label')\n",
        "\n",
        "# Pelkkää pahuutta sisältävä testisetti\n",
        "X_evil_test = COMBINED_evil.drop(labels='Label', axis=1).copy()\n",
        "\n",
        "print(X_train.shape)\n",
        "print(X_test.shape)"
      ],
      "metadata": {
        "colab": {
          "base_uri": "https://localhost:8080/"
        },
        "id": "DnBFhAIDehzH",
        "outputId": "9e95ec1b-7267-4007-defb-989836dbb9ec"
      },
      "execution_count": 10,
      "outputs": [
        {
          "output_type": "stream",
          "name": "stdout",
          "text": [
            "Datasetit:\n",
            "    clean (rows, cols) = (360833, 79)\n",
            "    evil (rows, cols) = (687742, 79)\n",
            "(300000, 78)\n",
            "(748575, 78)\n"
          ]
        }
      ]
    },
    {
      "cell_type": "code",
      "source": [
        "# Splitataan puhdas koulutusdata validointiin ja koulutusdataan sekä labeleihin\n",
        "X_train, X_validate, T_train, T_validate = train_test_split(X_train, T_train,\n",
        "                                                            test_size=0.2,\n",
        "                                                            random_state=42)\n",
        "\n",
        "# Muutetaan dataframet -> numpy array\n",
        "X_train = X_train.values\n",
        "X_validate = X_validate.values\n",
        "X_test = X_test.values\n",
        "T_train = T_train.values\n",
        "T_validate = T_validate.values\n",
        "T_test = T_test.values\n",
        "X_evil_test = X_evil_test.values\n",
        "X_clean_test = X_clean_test.values"
      ],
      "metadata": {
        "id": "Io_KuMDdiZpT"
      },
      "execution_count": 11,
      "outputs": []
    },
    {
      "cell_type": "code",
      "source": [
        "print(f\"\"\"Datasettien muodot:\n",
        "    Koulutus (rows, cols) = {X_train.shape}\n",
        "    Validointi (rows, cols) = {X_validate.shape}\n",
        "    Testi (rows, cols) = {X_test.shape}\n",
        "    Koulutuslabelit (rows, cols) = {T_train.shape}\n",
        "    Validointilabelit (rows, cols) = {T_validate.shape}\n",
        "    Testilabelit (rows, cols) = {T_test.shape}\n",
        "    Testi pelkällä pahuudella (rows, cols) = {X_evil_test.shape}\n",
        "    Testi ilman pahuutta (rows, cols) = {X_clean_test.shape}  \"\"\")"
      ],
      "metadata": {
        "colab": {
          "base_uri": "https://localhost:8080/"
        },
        "id": "tp-dgSp1izPk",
        "outputId": "2ed0ca3b-0da5-408e-d9b2-f2916ecccd06"
      },
      "execution_count": 12,
      "outputs": [
        {
          "output_type": "stream",
          "name": "stdout",
          "text": [
            "Datasettien muodot:\n",
            "    Koulutus (rows, cols) = (240000, 78)\n",
            "    Validointi (rows, cols) = (60000, 78)\n",
            "    Testi (rows, cols) = (748575, 78)\n",
            "    Koulutuslabelit (rows, cols) = (240000,)\n",
            "    Validointilabelit (rows, cols) = (60000,)\n",
            "    Testilabelit (rows, cols) = (748575,)\n",
            "    Testi pelkällä pahuudella (rows, cols) = (687742, 78)\n",
            "    Testi ilman pahuutta (rows, cols) = (60833, 78)  \n"
          ]
        }
      ]
    },
    {
      "cell_type": "markdown",
      "source": [
        "### Normalisointi"
      ],
      "metadata": {
        "id": "f45JIkixjA7d"
      }
    },
    {
      "cell_type": "code",
      "source": [
        "scaler = preprocessing.MinMaxScaler()\n",
        "X_train_norm = scaler.fit_transform(X_train)\n",
        "X_validate_norm = scaler.transform(X_validate)\n",
        "X_test_norm = scaler.transform(X_test)\n",
        "X_evil_test_norm = scaler.transform(X_evil_test)\n",
        "X_clean_test_norm = scaler.transform(X_clean_test)"
      ],
      "metadata": {
        "id": "QW67djamjCo3"
      },
      "execution_count": 13,
      "outputs": []
    },
    {
      "cell_type": "markdown",
      "source": [
        "### Malli\n",
        "\n",
        "Kuten jo todettu, verkkoa on kevennetty pienentämällä neuronien määriä ja myös eräkokoa (batch) on kasvatettu."
      ],
      "metadata": {
        "id": "WcUUrprjjJQT"
      }
    },
    {
      "cell_type": "code",
      "source": [
        "DIMENSION = X_train_norm.shape[1]\n",
        "BATCH = 128\n",
        "EPOCHS = 10\n",
        "ACT = 'relu'\n",
        "\n",
        "class AutoEncoder(Model):\n",
        "  \"\"\"\n",
        "  Parameters\n",
        "  ----------\n",
        "  output_units: int\n",
        "    Number of output units\n",
        "\n",
        "  code_size: int\n",
        "    Number of units in bottle neck\n",
        "  \"\"\"\n",
        "\n",
        "  def __init__(self, output_units, code_size=8):\n",
        "    super().__init__()\n",
        "    self.encoder = Sequential([\n",
        "      Dense(DIMENSION, activation=ACT, input_shape=(DIMENSION, )),\n",
        "      Dense(32, activation=ACT),\n",
        "      Dense(16, activation=ACT),\n",
        "      Dense(8, activation=ACT),\n",
        "    ])\n",
        "    self.decoder = Sequential([\n",
        "      Dense(8, activation=ACT),\n",
        "      Dense(16, activation=ACT),\n",
        "      Dense(32, activation=ACT),\n",
        "      Dense(output_units, activation='sigmoid')\n",
        "    ])\n",
        "\n",
        "  def call(self, inputs):\n",
        "    encoded = self.encoder(inputs)\n",
        "    decoded = self.decoder(encoded)\n",
        "    return decoded\n",
        "\n",
        "autoencoder = AutoEncoder(output_units=X_train_norm.shape[1])\n",
        "autoencoder.compile(loss='mse', optimizer='adam', metrics=[\"acc\"])"
      ],
      "metadata": {
        "id": "fdGPOhHwjLhM"
      },
      "execution_count": 14,
      "outputs": []
    },
    {
      "cell_type": "code",
      "source": [
        "history = autoencoder.fit(X_train_norm, X_train_norm,\n",
        "                          epochs = EPOCHS,\n",
        "                          batch_size = BATCH,\n",
        "                          validation_data=(X_validate_norm, X_validate_norm))"
      ],
      "metadata": {
        "colab": {
          "base_uri": "https://localhost:8080/"
        },
        "id": "Kl4wv-pzjYOQ",
        "outputId": "38eef757-9038-4fb7-ec46-77dc7956ba1b"
      },
      "execution_count": 15,
      "outputs": [
        {
          "output_type": "stream",
          "name": "stdout",
          "text": [
            "Epoch 1/10\n",
            "1875/1875 [==============================] - 10s 4ms/step - loss: 0.0066 - acc: 0.1811 - val_loss: 2.2031e-04 - val_acc: 0.0054\n",
            "Epoch 2/10\n",
            "1875/1875 [==============================] - 8s 4ms/step - loss: 3.0868e-04 - acc: 0.1792 - val_loss: 1.8730e-04 - val_acc: 0.0365\n",
            "Epoch 3/10\n",
            "1875/1875 [==============================] - 8s 4ms/step - loss: 2.5305e-04 - acc: 0.2024 - val_loss: 1.5984e-04 - val_acc: 0.2674\n",
            "Epoch 4/10\n",
            "1875/1875 [==============================] - 7s 4ms/step - loss: 2.1402e-04 - acc: 0.3157 - val_loss: 1.2837e-04 - val_acc: 0.3531\n",
            "Epoch 5/10\n",
            "1875/1875 [==============================] - 9s 5ms/step - loss: 1.8870e-04 - acc: 0.4434 - val_loss: 1.1778e-04 - val_acc: 0.4385\n",
            "Epoch 6/10\n",
            "1875/1875 [==============================] - 7s 4ms/step - loss: 1.6503e-04 - acc: 0.4757 - val_loss: 1.1547e-04 - val_acc: 0.3847\n",
            "Epoch 7/10\n",
            "1875/1875 [==============================] - 9s 5ms/step - loss: 1.4955e-04 - acc: 0.5567 - val_loss: 1.1065e-04 - val_acc: 0.8933\n",
            "Epoch 8/10\n",
            "1875/1875 [==============================] - 7s 4ms/step - loss: 1.4159e-04 - acc: 0.6451 - val_loss: 1.1074e-04 - val_acc: 0.5243\n",
            "Epoch 9/10\n",
            "1875/1875 [==============================] - 9s 5ms/step - loss: 1.2961e-04 - acc: 0.6612 - val_loss: 1.0971e-04 - val_acc: 0.7007\n",
            "Epoch 10/10\n",
            "1875/1875 [==============================] - 7s 4ms/step - loss: 1.2618e-04 - acc: 0.6272 - val_loss: 1.3276e-04 - val_acc: 0.6746\n"
          ]
        }
      ]
    },
    {
      "cell_type": "markdown",
      "source": [
        "### Piirretään historia\n",
        "\n",
        "Verkon keventämisestä huolimatta tulokset näyttävät ihan hyvältä. Voisi varmaan keventää enemmänkin."
      ],
      "metadata": {
        "id": "QvYarZSZk2Y-"
      }
    },
    {
      "cell_type": "code",
      "source": [
        "plt.figure(figsize=(12, 8))\n",
        "plt.plot(history.history[\"loss\"], label=\"Training Loss\");\n",
        "plt.plot(history.history[\"val_loss\"], label=\"Validation Loss\");\n",
        "plt.xlabel('Epochs')\n",
        "plt.ylabel('Loss')\n",
        "plt.legend();"
      ],
      "metadata": {
        "colab": {
          "base_uri": "https://localhost:8080/",
          "height": 696
        },
        "id": "kv9Wy82Wk4Gr",
        "outputId": "c91cda35-e362-487d-d209-6a73c59f7989"
      },
      "execution_count": 16,
      "outputs": [
        {
          "output_type": "display_data",
          "data": {
            "text/plain": [
              "<Figure size 1200x800 with 1 Axes>"
            ],
            "image/png": "[encoded data removed]"
          },
          "metadata": {}
        }
      ]
    },
    {
      "cell_type": "markdown",
      "source": [
        "### Threshold\n",
        "\n",
        "Myös tässä tapauksessa threshold arvo saatiin todella pieneksi."
      ],
      "metadata": {
        "id": "q4iKYVZrlAd6"
      }
    },
    {
      "cell_type": "code",
      "source": [
        "reconstructions = autoencoder.predict(X_train_norm)\n",
        "train_loss = tf.keras.losses.mse(reconstructions, X_train_norm)\n",
        "threshold = np.mean(train_loss) + np.std(train_loss)\n",
        "print(\"Threshold: \", threshold)"
      ],
      "metadata": {
        "colab": {
          "base_uri": "https://localhost:8080/"
        },
        "id": "OmNh-Yu3k_2k",
        "outputId": "7585e679-78bf-4c9a-8b7c-4f41534958ff"
      },
      "execution_count": 17,
      "outputs": [
        {
          "output_type": "stream",
          "name": "stdout",
          "text": [
            "7500/7500 [==============================] - 14s 2ms/step\n",
            "Threshold:  0.0013995237777398827\n"
          ]
        }
      ]
    },
    {
      "cell_type": "markdown",
      "source": [
        "### Kuvien piirtelyä\n",
        "\n",
        "Aivan kuten pelkät UDP/LOIC-hyökkäykset sisältänyt data, myös molemmat hyökkäystyypit sisältävä data eroaa puhtaasta datasta hyvin selkeästi rekonstruktointi häviöiden perusteella, joten malli todennäköisesti toimii."
      ],
      "metadata": {
        "id": "lTGll72alGbB"
      }
    },
    {
      "cell_type": "code",
      "source": [
        "fig, ax = plt.subplots(2, 2, figsize=(12,8))\n",
        "\n",
        "reconstructions = autoencoder.predict(X_train_norm)\n",
        "train_loss_training = tf.keras.losses.mse(reconstructions, X_train_norm)\n",
        "threshold = np.mean(train_loss_training) + np.std(train_loss)\n",
        "#print(\"Threshold: \", threshold)\n",
        "ax[0, 0].hist(train_loss_training[None,:],range=[0, 0.025])\n",
        "ax[0, 0].set_xlabel('Train loss, koulutusdata')\n",
        "ax[0, 0].set_ylabel('KPL')\n",
        "\n",
        "reconstructions = autoencoder.predict(X_test_norm)\n",
        "train_loss_test = tf.keras.losses.mse(reconstructions, X_test_norm)\n",
        "ax[0,1].hist(train_loss_test[None,:])\n",
        "ax[0,1].set_xlabel('Train loss, testidata')\n",
        "ax[0,1].set_ylabel('KPL')\n",
        "\n",
        "reconstructions = autoencoder.predict(X_clean_test_norm)\n",
        "train_loss_clean = tf.keras.losses.mse(reconstructions, X_clean_test_norm)\n",
        "ax[1,0].hist(train_loss_clean[None,:], range=[0, 0.15])\n",
        "ax[1,0].set_xlabel('Train loss, puhdas testidata')\n",
        "ax[1,0].set_ylabel('KPL')\n",
        "\n",
        "reconstructions = autoencoder.predict(X_evil_test_norm)\n",
        "train_loss_evil = tf.keras.losses.mse(reconstructions, X_evil_test_norm)\n",
        "ax[1,1].hist(train_loss_evil[None,:])\n",
        "ax[1,1].set_xlabel('Train loss, paha testidata')\n",
        "ax[1,1].set_ylabel('KPL')\n",
        "\n",
        "plt.show()"
      ],
      "metadata": {
        "colab": {
          "base_uri": "https://localhost:8080/",
          "height": 769
        },
        "id": "E3E1FqTelImE",
        "outputId": "51092df5-003a-4bf5-ea3a-8695a0713d52"
      },
      "execution_count": 18,
      "outputs": [
        {
          "output_type": "stream",
          "name": "stdout",
          "text": [
            "7500/7500 [==============================] - 14s 2ms/step\n",
            "23393/23393 [==============================] - 41s 2ms/step\n",
            "1902/1902 [==============================] - 3s 2ms/step\n",
            "21492/21492 [==============================] - 40s 2ms/step\n"
          ]
        },
        {
          "output_type": "display_data",
          "data": {
            "text/plain": [
              "<Figure size 1200x800 with 4 Axes>"
            ],
            "image/png": "[encoded data removed]"
          },
          "metadata": {}
        }
      ]
    },
    {
      "cell_type": "markdown",
      "source": [
        "### Tulokset\n",
        "\n",
        "Kuten mittareista nähdään, malli toimii oikein hyvin molempien hyökkäysten havaitsemiseen. Todellisuudessa hyökkäystyypit pitäisi kuitenkin pystyä havaitsmeisvaiheessakin erottamaan jotenkin toisistaan."
      ],
      "metadata": {
        "id": "43dObTjrlZIR"
      }
    },
    {
      "cell_type": "code",
      "source": [
        "def get_predictions(model, x_test_scaled, threshold):\n",
        "  predictions = model.predict(x_test_scaled)\n",
        "  errors = tf.keras.losses.mse(predictions, x_test_scaled)\n",
        "  # 1 = poikkeama, 0 = normaali\n",
        "  anomaly_mask = pd.Series(errors) > threshold\n",
        "  preds = anomaly_mask.map(lambda x: 1.0 if x == True else 0.0)\n",
        "  return preds\n",
        "\n",
        "preds = get_predictions(autoencoder, X_test_norm, threshold)\n",
        "print(accuracy_score(preds, T_test))\n",
        "print(precision_score(preds, T_test))\n",
        "\n",
        "print(\"\\nLuokitteluraportti testidatalla:\")\n",
        "print(classification_report(T_test, preds, labels=[0, 1]))"
      ],
      "metadata": {
        "colab": {
          "base_uri": "https://localhost:8080/"
        },
        "id": "PIKK9poGlaNN",
        "outputId": "8b555e2f-bd25-4ace-e00c-a2fde6eb3920"
      },
      "execution_count": 19,
      "outputs": [
        {
          "output_type": "stream",
          "name": "stdout",
          "text": [
            "23393/23393 [==============================] - 41s 2ms/step\n",
            "0.999720802858765\n",
            "1.0\n",
            "\n",
            "Luokitteluraportti testidatalla:\n",
            "              precision    recall  f1-score   support\n",
            "\n",
            "           0       1.00      1.00      1.00     60833\n",
            "           1       1.00      1.00      1.00    687742\n",
            "\n",
            "    accuracy                           1.00    748575\n",
            "   macro avg       1.00      1.00      1.00    748575\n",
            "weighted avg       1.00      1.00      1.00    748575\n",
            "\n"
          ]
        }
      ]
    }
  ]
}